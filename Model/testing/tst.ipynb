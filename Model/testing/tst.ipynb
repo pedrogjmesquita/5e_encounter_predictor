{
 "cells": [
  {
   "cell_type": "code",
   "execution_count": 14,
   "metadata": {},
   "outputs": [],
   "source": [
    "import pandas as pd\n",
    "from utils import input_data\n",
    "import random"
   ]
  },
  {
   "cell_type": "code",
   "execution_count": 15,
   "metadata": {},
   "outputs": [],
   "source": [
    "new_data = pd.read_csv('../../Data/test_sample.csv', encoding='utf-8')\n",
    "n = random.randint(0, len(new_data)-1)\n",
    "new_data = new_data.iloc[n].T.to_frame().T"
   ]
  },
  {
   "cell_type": "code",
   "execution_count": 17,
   "metadata": {},
   "outputs": [
    {
     "name": "stdout",
     "output_type": "stream",
     "text": [
      "<class 'pandas.core.frame.DataFrame'>\n",
      "Index: 1 entries, 2365 to 2365\n",
      "Data columns (total 22 columns):\n",
      " #   Column           Non-Null Count  Dtype \n",
      "---  ------           --------------  ----- \n",
      " 0   p1_class         1 non-null      object\n",
      " 1   p1_hp            1 non-null      object\n",
      " 2   p1_ac            1 non-null      object\n",
      " 3   p1_avg_save      1 non-null      object\n",
      " 4   p2_class         1 non-null      object\n",
      " 5   p2_hp            1 non-null      object\n",
      " 6   p2_ac            1 non-null      object\n",
      " 7   p2_avg_save      1 non-null      object\n",
      " 8   p3_class         1 non-null      object\n",
      " 9   p3_hp            1 non-null      object\n",
      " 10  p3_ac            1 non-null      object\n",
      " 11  p3_avg_save      1 non-null      object\n",
      " 12  p4_class         1 non-null      object\n",
      " 13  p4_hp            1 non-null      object\n",
      " 14  p4_ac            1 non-null      object\n",
      " 15  p4_avg_save      1 non-null      object\n",
      " 16  num_of_monsters  1 non-null      object\n",
      " 17  monster_cr       1 non-null      object\n",
      " 18  monster_ac       1 non-null      object\n",
      " 19  monster_hp       1 non-null      object\n",
      " 20  monster_type     1 non-null      object\n",
      " 21  players_level    1 non-null      object\n",
      "dtypes: object(22)\n",
      "memory usage: 184.0+ bytes\n"
     ]
    }
   ],
   "source": [
    "input = {'players_level': 5, 'p1_class': 'Wizzard', 'p1_hp': 34, 'p1_ac': 14, 'p1_avg_save': 3, 'p2_class': 'Rogue', 'p2_hp': 40, 'p2_ac': 16, 'p2_avg_save': 3, 'p3_class': 'Barbarian', 'p3_hp': 55, 'p3_ac': 16, 'p3_avg_save': 3, 'p4_class': 'Fighter', 'p4_hp': 45, 'p4_ac': 19, 'p4_avg_save': 3, 'num_of_monsters': 1, 'monster_cr': 12, 'monster_ac': 17, 'monster_hp': 180, 'monster_type': 'dragon'}\n",
    "new_data.drop(columns=['dificulty', 'monster_name'], inplace=True)\n",
    "new_data.info()"
   ]
  },
  {
   "cell_type": "code",
   "execution_count": null,
   "metadata": {},
   "outputs": [
    {
     "name": "stdout",
     "output_type": "stream",
     "text": [
      "<class 'pandas.core.frame.DataFrame'>\n",
      "Index: 1 entries, 0 to 0\n",
      "Data columns (total 22 columns):\n",
      " #   Column           Non-Null Count  Dtype \n",
      "---  ------           --------------  ----- \n",
      " 0   players_level    1 non-null      int64 \n",
      " 1   p1_class         1 non-null      object\n",
      " 2   p1_hp            1 non-null      int64 \n",
      " 3   p1_ac            1 non-null      int64 \n",
      " 4   p1_avg_save      1 non-null      int64 \n",
      " 5   p2_class         1 non-null      object\n",
      " 6   p2_hp            1 non-null      int64 \n",
      " 7   p2_ac            1 non-null      int64 \n",
      " 8   p2_avg_save      1 non-null      int64 \n",
      " 9   p3_class         1 non-null      object\n",
      " 10  p3_hp            1 non-null      int64 \n",
      " 11  p3_ac            1 non-null      int64 \n",
      " 12  p3_avg_save      1 non-null      int64 \n",
      " 13  p4_class         1 non-null      object\n",
      " 14  p4_hp            1 non-null      int64 \n",
      " 15  p4_ac            1 non-null      int64 \n",
      " 16  p4_avg_save      1 non-null      int64 \n",
      " 17  num_of_monsters  1 non-null      int64 \n",
      " 18  monster_cr       1 non-null      int64 \n",
      " 19  monster_ac       1 non-null      int64 \n",
      " 20  monster_hp       1 non-null      int64 \n",
      " 21  monster_type     1 non-null      object\n",
      "dtypes: int64(17), object(5)\n",
      "memory usage: 184.0+ bytes\n"
     ]
    }
   ],
   "source": [
    "input = pd.DataFrame(input, index=[0])\n",
    "input.info()"
   ]
  }
 ],
 "metadata": {
  "kernelspec": {
   "display_name": "Python 3",
   "language": "python",
   "name": "python3"
  },
  "language_info": {
   "codemirror_mode": {
    "name": "ipython",
    "version": 3
   },
   "file_extension": ".py",
   "mimetype": "text/x-python",
   "name": "python",
   "nbconvert_exporter": "python",
   "pygments_lexer": "ipython3",
   "version": "3.11.4"
  }
 },
 "nbformat": 4,
 "nbformat_minor": 2
}
