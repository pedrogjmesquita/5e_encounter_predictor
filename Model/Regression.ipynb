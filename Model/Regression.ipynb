{
 "cells": [
  {
   "cell_type": "markdown",
   "metadata": {},
   "source": [
    "# Importing the libraries"
   ]
  },
  {
   "cell_type": "code",
   "execution_count": 124,
   "metadata": {},
   "outputs": [],
   "source": [
    "import pandas as pd\n",
    "import numpy as np"
   ]
  },
  {
   "cell_type": "markdown",
   "metadata": {},
   "source": [
    "# Importing the dataset"
   ]
  },
  {
   "cell_type": "code",
   "execution_count": 125,
   "metadata": {},
   "outputs": [
    {
     "data": {
      "text/html": [
       "<div>\n",
       "<style scoped>\n",
       "    .dataframe tbody tr th:only-of-type {\n",
       "        vertical-align: middle;\n",
       "    }\n",
       "\n",
       "    .dataframe tbody tr th {\n",
       "        vertical-align: top;\n",
       "    }\n",
       "\n",
       "    .dataframe thead th {\n",
       "        text-align: right;\n",
       "    }\n",
       "</style>\n",
       "<table border=\"1\" class=\"dataframe\">\n",
       "  <thead>\n",
       "    <tr style=\"text-align: right;\">\n",
       "      <th></th>\n",
       "      <th>p1_class</th>\n",
       "      <th>p1_hp</th>\n",
       "      <th>p1_ac</th>\n",
       "      <th>p1_avg_save</th>\n",
       "      <th>p2_class</th>\n",
       "      <th>p2_hp</th>\n",
       "      <th>p2_ac</th>\n",
       "      <th>p2_avg_save</th>\n",
       "      <th>p3_class</th>\n",
       "      <th>p3_hp</th>\n",
       "      <th>...</th>\n",
       "      <th>p4_ac</th>\n",
       "      <th>p4_avg_save</th>\n",
       "      <th>num_of_monsters</th>\n",
       "      <th>monster_name</th>\n",
       "      <th>monster_cr</th>\n",
       "      <th>monster_ac</th>\n",
       "      <th>monster_hp</th>\n",
       "      <th>monster_type</th>\n",
       "      <th>dificulty</th>\n",
       "      <th>players_level</th>\n",
       "    </tr>\n",
       "  </thead>\n",
       "  <tbody>\n",
       "    <tr>\n",
       "      <th>51219</th>\n",
       "      <td>Rogue</td>\n",
       "      <td>26</td>\n",
       "      <td>17</td>\n",
       "      <td>3</td>\n",
       "      <td>Bard</td>\n",
       "      <td>22</td>\n",
       "      <td>16</td>\n",
       "      <td>3</td>\n",
       "      <td>Paladin</td>\n",
       "      <td>30</td>\n",
       "      <td>...</td>\n",
       "      <td>14</td>\n",
       "      <td>3</td>\n",
       "      <td>2</td>\n",
       "      <td>Young Brass Dragon</td>\n",
       "      <td>6.00</td>\n",
       "      <td>17</td>\n",
       "      <td>110</td>\n",
       "      <td>dragon</td>\n",
       "      <td>0.000000</td>\n",
       "      <td>4</td>\n",
       "    </tr>\n",
       "    <tr>\n",
       "      <th>39963</th>\n",
       "      <td>Barbarian</td>\n",
       "      <td>25</td>\n",
       "      <td>17</td>\n",
       "      <td>2</td>\n",
       "      <td>Rogue</td>\n",
       "      <td>15</td>\n",
       "      <td>16</td>\n",
       "      <td>2</td>\n",
       "      <td>Paladin</td>\n",
       "      <td>22</td>\n",
       "      <td>...</td>\n",
       "      <td>11</td>\n",
       "      <td>2</td>\n",
       "      <td>10</td>\n",
       "      <td>Velociraptor</td>\n",
       "      <td>0.25</td>\n",
       "      <td>13</td>\n",
       "      <td>10</td>\n",
       "      <td>beast</td>\n",
       "      <td>0.803656</td>\n",
       "      <td>2</td>\n",
       "    </tr>\n",
       "    <tr>\n",
       "      <th>53886</th>\n",
       "      <td>Bard</td>\n",
       "      <td>36</td>\n",
       "      <td>13</td>\n",
       "      <td>3</td>\n",
       "      <td>Artificer</td>\n",
       "      <td>46</td>\n",
       "      <td>15</td>\n",
       "      <td>3</td>\n",
       "      <td>Barbarian</td>\n",
       "      <td>46</td>\n",
       "      <td>...</td>\n",
       "      <td>15</td>\n",
       "      <td>3</td>\n",
       "      <td>1</td>\n",
       "      <td>Armanite</td>\n",
       "      <td>7.00</td>\n",
       "      <td>16</td>\n",
       "      <td>94</td>\n",
       "      <td>fiend</td>\n",
       "      <td>0.479019</td>\n",
       "      <td>5</td>\n",
       "    </tr>\n",
       "    <tr>\n",
       "      <th>25397</th>\n",
       "      <td>Barbarian</td>\n",
       "      <td>37</td>\n",
       "      <td>13</td>\n",
       "      <td>3</td>\n",
       "      <td>Cleric</td>\n",
       "      <td>26</td>\n",
       "      <td>18</td>\n",
       "      <td>3</td>\n",
       "      <td>Rogue</td>\n",
       "      <td>28</td>\n",
       "      <td>...</td>\n",
       "      <td>12</td>\n",
       "      <td>3</td>\n",
       "      <td>1</td>\n",
       "      <td>Beholder Zombie</td>\n",
       "      <td>5.00</td>\n",
       "      <td>15</td>\n",
       "      <td>93</td>\n",
       "      <td>undead</td>\n",
       "      <td>0.928958</td>\n",
       "      <td>4</td>\n",
       "    </tr>\n",
       "    <tr>\n",
       "      <th>48875</th>\n",
       "      <td>Cleric</td>\n",
       "      <td>7</td>\n",
       "      <td>15</td>\n",
       "      <td>2</td>\n",
       "      <td>Sorcerer</td>\n",
       "      <td>9</td>\n",
       "      <td>15</td>\n",
       "      <td>2</td>\n",
       "      <td>Paladin</td>\n",
       "      <td>9</td>\n",
       "      <td>...</td>\n",
       "      <td>15</td>\n",
       "      <td>2</td>\n",
       "      <td>10</td>\n",
       "      <td>Rust Monster</td>\n",
       "      <td>0.50</td>\n",
       "      <td>14</td>\n",
       "      <td>27</td>\n",
       "      <td>monstrosity</td>\n",
       "      <td>0.000000</td>\n",
       "      <td>1</td>\n",
       "    </tr>\n",
       "  </tbody>\n",
       "</table>\n",
       "<p>5 rows × 24 columns</p>\n",
       "</div>"
      ],
      "text/plain": [
       "        p1_class  p1_hp  p1_ac  p1_avg_save   p2_class  p2_hp  p2_ac  \\\n",
       "51219      Rogue     26     17            3       Bard     22     16   \n",
       "39963  Barbarian     25     17            2      Rogue     15     16   \n",
       "53886       Bard     36     13            3  Artificer     46     15   \n",
       "25397  Barbarian     37     13            3     Cleric     26     18   \n",
       "48875     Cleric      7     15            2   Sorcerer      9     15   \n",
       "\n",
       "       p2_avg_save   p3_class  p3_hp  ...  p4_ac  p4_avg_save num_of_monsters  \\\n",
       "51219            3    Paladin     30  ...     14            3               2   \n",
       "39963            2    Paladin     22  ...     11            2              10   \n",
       "53886            3  Barbarian     46  ...     15            3               1   \n",
       "25397            3      Rogue     28  ...     12            3               1   \n",
       "48875            2    Paladin      9  ...     15            2              10   \n",
       "\n",
       "             monster_name  monster_cr  monster_ac  monster_hp monster_type  \\\n",
       "51219  Young Brass Dragon        6.00          17         110       dragon   \n",
       "39963        Velociraptor        0.25          13          10        beast   \n",
       "53886            Armanite        7.00          16          94        fiend   \n",
       "25397     Beholder Zombie        5.00          15          93       undead   \n",
       "48875        Rust Monster        0.50          14          27  monstrosity   \n",
       "\n",
       "       dificulty  players_level  \n",
       "51219   0.000000              4  \n",
       "39963   0.803656              2  \n",
       "53886   0.479019              5  \n",
       "25397   0.928958              4  \n",
       "48875   0.000000              1  \n",
       "\n",
       "[5 rows x 24 columns]"
      ]
     },
     "execution_count": 125,
     "metadata": {},
     "output_type": "execute_result"
    }
   ],
   "source": [
    "df = pd.read_csv('../Data/results_v6.csv')\n",
    "df.sample(5)"
   ]
  },
  {
   "cell_type": "markdown",
   "metadata": {},
   "source": [
    "# Cleaning the data"
   ]
  },
  {
   "cell_type": "markdown",
   "metadata": {},
   "source": [
    "## Dropping the columns that wont help in prediction"
   ]
  },
  {
   "cell_type": "code",
   "execution_count": 126,
   "metadata": {},
   "outputs": [
    {
     "data": {
      "text/html": [
       "<div>\n",
       "<style scoped>\n",
       "    .dataframe tbody tr th:only-of-type {\n",
       "        vertical-align: middle;\n",
       "    }\n",
       "\n",
       "    .dataframe tbody tr th {\n",
       "        vertical-align: top;\n",
       "    }\n",
       "\n",
       "    .dataframe thead th {\n",
       "        text-align: right;\n",
       "    }\n",
       "</style>\n",
       "<table border=\"1\" class=\"dataframe\">\n",
       "  <thead>\n",
       "    <tr style=\"text-align: right;\">\n",
       "      <th></th>\n",
       "      <th>p1_class</th>\n",
       "      <th>p1_hp</th>\n",
       "      <th>p1_ac</th>\n",
       "      <th>p1_avg_save</th>\n",
       "      <th>p2_class</th>\n",
       "      <th>p2_hp</th>\n",
       "      <th>p2_ac</th>\n",
       "      <th>p2_avg_save</th>\n",
       "      <th>p3_class</th>\n",
       "      <th>p3_hp</th>\n",
       "      <th>...</th>\n",
       "      <th>p4_hp</th>\n",
       "      <th>p4_ac</th>\n",
       "      <th>p4_avg_save</th>\n",
       "      <th>num_of_monsters</th>\n",
       "      <th>monster_cr</th>\n",
       "      <th>monster_ac</th>\n",
       "      <th>monster_hp</th>\n",
       "      <th>monster_type</th>\n",
       "      <th>dificulty</th>\n",
       "      <th>players_level</th>\n",
       "    </tr>\n",
       "  </thead>\n",
       "  <tbody>\n",
       "    <tr>\n",
       "      <th>0</th>\n",
       "      <td>Artificer</td>\n",
       "      <td>38</td>\n",
       "      <td>12</td>\n",
       "      <td>3</td>\n",
       "      <td>Bard</td>\n",
       "      <td>38</td>\n",
       "      <td>13</td>\n",
       "      <td>3</td>\n",
       "      <td>Barbarian</td>\n",
       "      <td>51</td>\n",
       "      <td>...</td>\n",
       "      <td>43</td>\n",
       "      <td>14</td>\n",
       "      <td>3</td>\n",
       "      <td>1</td>\n",
       "      <td>11.00</td>\n",
       "      <td>17</td>\n",
       "      <td>200</td>\n",
       "      <td>elemental</td>\n",
       "      <td>0.869491</td>\n",
       "      <td>5</td>\n",
       "    </tr>\n",
       "    <tr>\n",
       "      <th>1</th>\n",
       "      <td>Bard</td>\n",
       "      <td>24</td>\n",
       "      <td>12</td>\n",
       "      <td>3</td>\n",
       "      <td>Barbarian</td>\n",
       "      <td>36</td>\n",
       "      <td>17</td>\n",
       "      <td>3</td>\n",
       "      <td>Sorcerer</td>\n",
       "      <td>13</td>\n",
       "      <td>...</td>\n",
       "      <td>25</td>\n",
       "      <td>15</td>\n",
       "      <td>3</td>\n",
       "      <td>10</td>\n",
       "      <td>0.25</td>\n",
       "      <td>13</td>\n",
       "      <td>22</td>\n",
       "      <td>beast</td>\n",
       "      <td>0.067640</td>\n",
       "      <td>3</td>\n",
       "    </tr>\n",
       "    <tr>\n",
       "      <th>2</th>\n",
       "      <td>Ranger</td>\n",
       "      <td>17</td>\n",
       "      <td>12</td>\n",
       "      <td>2</td>\n",
       "      <td>Ranger</td>\n",
       "      <td>12</td>\n",
       "      <td>15</td>\n",
       "      <td>2</td>\n",
       "      <td>Druid</td>\n",
       "      <td>12</td>\n",
       "      <td>...</td>\n",
       "      <td>14</td>\n",
       "      <td>14</td>\n",
       "      <td>2</td>\n",
       "      <td>1</td>\n",
       "      <td>6.00</td>\n",
       "      <td>16</td>\n",
       "      <td>85</td>\n",
       "      <td>elemental</td>\n",
       "      <td>1.000000</td>\n",
       "      <td>2</td>\n",
       "    </tr>\n",
       "    <tr>\n",
       "      <th>3</th>\n",
       "      <td>Fighter</td>\n",
       "      <td>32</td>\n",
       "      <td>18</td>\n",
       "      <td>3</td>\n",
       "      <td>Paladin</td>\n",
       "      <td>32</td>\n",
       "      <td>19</td>\n",
       "      <td>3</td>\n",
       "      <td>Paladin</td>\n",
       "      <td>21</td>\n",
       "      <td>...</td>\n",
       "      <td>27</td>\n",
       "      <td>13</td>\n",
       "      <td>3</td>\n",
       "      <td>1</td>\n",
       "      <td>7.00</td>\n",
       "      <td>15</td>\n",
       "      <td>123</td>\n",
       "      <td>aberration</td>\n",
       "      <td>0.285597</td>\n",
       "      <td>3</td>\n",
       "    </tr>\n",
       "    <tr>\n",
       "      <th>4</th>\n",
       "      <td>Cleric</td>\n",
       "      <td>26</td>\n",
       "      <td>12</td>\n",
       "      <td>3</td>\n",
       "      <td>Paladin</td>\n",
       "      <td>34</td>\n",
       "      <td>15</td>\n",
       "      <td>3</td>\n",
       "      <td>Cleric</td>\n",
       "      <td>25</td>\n",
       "      <td>...</td>\n",
       "      <td>25</td>\n",
       "      <td>13</td>\n",
       "      <td>3</td>\n",
       "      <td>4</td>\n",
       "      <td>2.00</td>\n",
       "      <td>13</td>\n",
       "      <td>27</td>\n",
       "      <td>humanoid</td>\n",
       "      <td>0.445773</td>\n",
       "      <td>4</td>\n",
       "    </tr>\n",
       "  </tbody>\n",
       "</table>\n",
       "<p>5 rows × 23 columns</p>\n",
       "</div>"
      ],
      "text/plain": [
       "    p1_class  p1_hp  p1_ac  p1_avg_save   p2_class  p2_hp  p2_ac  p2_avg_save  \\\n",
       "0  Artificer     38     12            3       Bard     38     13            3   \n",
       "1       Bard     24     12            3  Barbarian     36     17            3   \n",
       "2     Ranger     17     12            2     Ranger     12     15            2   \n",
       "3    Fighter     32     18            3    Paladin     32     19            3   \n",
       "4     Cleric     26     12            3    Paladin     34     15            3   \n",
       "\n",
       "    p3_class  p3_hp  ...  p4_hp  p4_ac p4_avg_save  num_of_monsters  \\\n",
       "0  Barbarian     51  ...     43     14           3                1   \n",
       "1   Sorcerer     13  ...     25     15           3               10   \n",
       "2      Druid     12  ...     14     14           2                1   \n",
       "3    Paladin     21  ...     27     13           3                1   \n",
       "4     Cleric     25  ...     25     13           3                4   \n",
       "\n",
       "   monster_cr  monster_ac  monster_hp  monster_type  dificulty  players_level  \n",
       "0       11.00          17         200     elemental   0.869491              5  \n",
       "1        0.25          13          22         beast   0.067640              3  \n",
       "2        6.00          16          85     elemental   1.000000              2  \n",
       "3        7.00          15         123    aberration   0.285597              3  \n",
       "4        2.00          13          27      humanoid   0.445773              4  \n",
       "\n",
       "[5 rows x 23 columns]"
      ]
     },
     "execution_count": 126,
     "metadata": {},
     "output_type": "execute_result"
    }
   ],
   "source": [
    "df.drop(columns=['monster_name'], inplace=True)\n",
    "df.head()"
   ]
  },
  {
   "cell_type": "markdown",
   "metadata": {},
   "source": [
    "## Dropping miswrote data\n"
   ]
  },
  {
   "cell_type": "code",
   "execution_count": 127,
   "metadata": {},
   "outputs": [
    {
     "data": {
      "text/plain": [
       "p1_class\n",
       "Rogue        5328\n",
       "Wizzard      5314\n",
       "Paladin      5268\n",
       "Artificer    5246\n",
       "Cleric       5244\n",
       "Warlock      5233\n",
       "Druid        5203\n",
       "Sorcerer     5197\n",
       "Fighter      5195\n",
       "Ranger       5192\n",
       "Monk         5177\n",
       "Bard         5129\n",
       "Barbarian    5104\n",
       "Name: count, dtype: int64"
      ]
     },
     "execution_count": 127,
     "metadata": {},
     "output_type": "execute_result"
    }
   ],
   "source": [
    "df.p1_class.value_counts()"
   ]
  },
  {
   "cell_type": "code",
   "execution_count": 128,
   "metadata": {},
   "outputs": [
    {
     "data": {
      "text/html": [
       "<div>\n",
       "<style scoped>\n",
       "    .dataframe tbody tr th:only-of-type {\n",
       "        vertical-align: middle;\n",
       "    }\n",
       "\n",
       "    .dataframe tbody tr th {\n",
       "        vertical-align: top;\n",
       "    }\n",
       "\n",
       "    .dataframe thead th {\n",
       "        text-align: right;\n",
       "    }\n",
       "</style>\n",
       "<table border=\"1\" class=\"dataframe\">\n",
       "  <thead>\n",
       "    <tr style=\"text-align: right;\">\n",
       "      <th></th>\n",
       "      <th>p1_class</th>\n",
       "      <th>p1_hp</th>\n",
       "      <th>p1_ac</th>\n",
       "      <th>p1_avg_save</th>\n",
       "      <th>p2_class</th>\n",
       "      <th>p2_hp</th>\n",
       "      <th>p2_ac</th>\n",
       "      <th>p2_avg_save</th>\n",
       "      <th>p3_class</th>\n",
       "      <th>p3_hp</th>\n",
       "      <th>...</th>\n",
       "      <th>p4_hp</th>\n",
       "      <th>p4_ac</th>\n",
       "      <th>p4_avg_save</th>\n",
       "      <th>num_of_monsters</th>\n",
       "      <th>monster_cr</th>\n",
       "      <th>monster_ac</th>\n",
       "      <th>monster_hp</th>\n",
       "      <th>monster_type</th>\n",
       "      <th>dificulty</th>\n",
       "      <th>players_level</th>\n",
       "    </tr>\n",
       "  </thead>\n",
       "  <tbody>\n",
       "    <tr>\n",
       "      <th>0</th>\n",
       "      <td>Artificer</td>\n",
       "      <td>38</td>\n",
       "      <td>12</td>\n",
       "      <td>3</td>\n",
       "      <td>Bard</td>\n",
       "      <td>38</td>\n",
       "      <td>13</td>\n",
       "      <td>3</td>\n",
       "      <td>Barbarian</td>\n",
       "      <td>51</td>\n",
       "      <td>...</td>\n",
       "      <td>43</td>\n",
       "      <td>14</td>\n",
       "      <td>3</td>\n",
       "      <td>1</td>\n",
       "      <td>11.00</td>\n",
       "      <td>17</td>\n",
       "      <td>200</td>\n",
       "      <td>elemental</td>\n",
       "      <td>0.869491</td>\n",
       "      <td>5</td>\n",
       "    </tr>\n",
       "    <tr>\n",
       "      <th>1</th>\n",
       "      <td>Bard</td>\n",
       "      <td>24</td>\n",
       "      <td>12</td>\n",
       "      <td>3</td>\n",
       "      <td>Barbarian</td>\n",
       "      <td>36</td>\n",
       "      <td>17</td>\n",
       "      <td>3</td>\n",
       "      <td>Sorcerer</td>\n",
       "      <td>13</td>\n",
       "      <td>...</td>\n",
       "      <td>25</td>\n",
       "      <td>15</td>\n",
       "      <td>3</td>\n",
       "      <td>10</td>\n",
       "      <td>0.25</td>\n",
       "      <td>13</td>\n",
       "      <td>22</td>\n",
       "      <td>beast</td>\n",
       "      <td>0.067640</td>\n",
       "      <td>3</td>\n",
       "    </tr>\n",
       "    <tr>\n",
       "      <th>2</th>\n",
       "      <td>Ranger</td>\n",
       "      <td>17</td>\n",
       "      <td>12</td>\n",
       "      <td>2</td>\n",
       "      <td>Ranger</td>\n",
       "      <td>12</td>\n",
       "      <td>15</td>\n",
       "      <td>2</td>\n",
       "      <td>Druid</td>\n",
       "      <td>12</td>\n",
       "      <td>...</td>\n",
       "      <td>14</td>\n",
       "      <td>14</td>\n",
       "      <td>2</td>\n",
       "      <td>1</td>\n",
       "      <td>6.00</td>\n",
       "      <td>16</td>\n",
       "      <td>85</td>\n",
       "      <td>elemental</td>\n",
       "      <td>1.000000</td>\n",
       "      <td>2</td>\n",
       "    </tr>\n",
       "    <tr>\n",
       "      <th>3</th>\n",
       "      <td>Fighter</td>\n",
       "      <td>32</td>\n",
       "      <td>18</td>\n",
       "      <td>3</td>\n",
       "      <td>Paladin</td>\n",
       "      <td>32</td>\n",
       "      <td>19</td>\n",
       "      <td>3</td>\n",
       "      <td>Paladin</td>\n",
       "      <td>21</td>\n",
       "      <td>...</td>\n",
       "      <td>27</td>\n",
       "      <td>13</td>\n",
       "      <td>3</td>\n",
       "      <td>1</td>\n",
       "      <td>7.00</td>\n",
       "      <td>15</td>\n",
       "      <td>123</td>\n",
       "      <td>aberration</td>\n",
       "      <td>0.285597</td>\n",
       "      <td>3</td>\n",
       "    </tr>\n",
       "    <tr>\n",
       "      <th>4</th>\n",
       "      <td>Cleric</td>\n",
       "      <td>26</td>\n",
       "      <td>12</td>\n",
       "      <td>3</td>\n",
       "      <td>Paladin</td>\n",
       "      <td>34</td>\n",
       "      <td>15</td>\n",
       "      <td>3</td>\n",
       "      <td>Cleric</td>\n",
       "      <td>25</td>\n",
       "      <td>...</td>\n",
       "      <td>25</td>\n",
       "      <td>13</td>\n",
       "      <td>3</td>\n",
       "      <td>4</td>\n",
       "      <td>2.00</td>\n",
       "      <td>13</td>\n",
       "      <td>27</td>\n",
       "      <td>humanoid</td>\n",
       "      <td>0.445773</td>\n",
       "      <td>4</td>\n",
       "    </tr>\n",
       "  </tbody>\n",
       "</table>\n",
       "<p>5 rows × 23 columns</p>\n",
       "</div>"
      ],
      "text/plain": [
       "    p1_class  p1_hp  p1_ac  p1_avg_save   p2_class  p2_hp  p2_ac  p2_avg_save  \\\n",
       "0  Artificer     38     12            3       Bard     38     13            3   \n",
       "1       Bard     24     12            3  Barbarian     36     17            3   \n",
       "2     Ranger     17     12            2     Ranger     12     15            2   \n",
       "3    Fighter     32     18            3    Paladin     32     19            3   \n",
       "4     Cleric     26     12            3    Paladin     34     15            3   \n",
       "\n",
       "    p3_class  p3_hp  ...  p4_hp  p4_ac p4_avg_save  num_of_monsters  \\\n",
       "0  Barbarian     51  ...     43     14           3                1   \n",
       "1   Sorcerer     13  ...     25     15           3               10   \n",
       "2      Druid     12  ...     14     14           2                1   \n",
       "3    Paladin     21  ...     27     13           3                1   \n",
       "4     Cleric     25  ...     25     13           3                4   \n",
       "\n",
       "   monster_cr  monster_ac  monster_hp  monster_type  dificulty  players_level  \n",
       "0       11.00          17         200     elemental   0.869491              5  \n",
       "1        0.25          13          22         beast   0.067640              3  \n",
       "2        6.00          16          85     elemental   1.000000              2  \n",
       "3        7.00          15         123    aberration   0.285597              3  \n",
       "4        2.00          13          27      humanoid   0.445773              4  \n",
       "\n",
       "[5 rows x 23 columns]"
      ]
     },
     "execution_count": 128,
     "metadata": {},
     "output_type": "execute_result"
    }
   ],
   "source": [
    "df = df[df['p1_class'] != '22']\n",
    "df = df[df['dificulty'] >= 0]\n",
    "df = df[df['monster_cr'] != -1]\n",
    "df = df[df['players_level'] <= 5]\n",
    "df.head()"
   ]
  },
  {
   "cell_type": "code",
   "execution_count": 191,
   "metadata": {},
   "outputs": [
    {
     "data": {
      "text/plain": [
       "dificulty          1.000000\n",
       "num_of_monsters    0.253943\n",
       "players_level      0.180134\n",
       "p3_hp              0.177627\n",
       "p1_hp              0.177555\n",
       "p4_hp              0.177066\n",
       "p2_hp              0.175795\n",
       "p2_avg_save        0.147260\n",
       "p3_avg_save        0.147260\n",
       "p4_avg_save        0.147260\n",
       "p1_avg_save        0.147260\n",
       "monster_hp         0.091391\n",
       "monster_cr         0.048792\n",
       "monster_ac         0.044074\n",
       "p1_ac              0.037208\n",
       "p4_ac              0.036301\n",
       "p3_ac              0.033209\n",
       "p2_ac              0.030426\n",
       "Name: dificulty, dtype: float64"
      ]
     },
     "execution_count": 191,
     "metadata": {},
     "output_type": "execute_result"
    }
   ],
   "source": [
    "corr_matrix = df.corr(numeric_only=True)\n",
    "abs(corr_matrix['dificulty']).sort_values(ascending = False).head(20)"
   ]
  },
  {
   "cell_type": "markdown",
   "metadata": {},
   "source": [
    "# Sampling the data"
   ]
  },
  {
   "cell_type": "code",
   "execution_count": 129,
   "metadata": {},
   "outputs": [
    {
     "data": {
      "text/html": [
       "<div>\n",
       "<style scoped>\n",
       "    .dataframe tbody tr th:only-of-type {\n",
       "        vertical-align: middle;\n",
       "    }\n",
       "\n",
       "    .dataframe tbody tr th {\n",
       "        vertical-align: top;\n",
       "    }\n",
       "\n",
       "    .dataframe thead th {\n",
       "        text-align: right;\n",
       "    }\n",
       "</style>\n",
       "<table border=\"1\" class=\"dataframe\">\n",
       "  <thead>\n",
       "    <tr style=\"text-align: right;\">\n",
       "      <th></th>\n",
       "      <th>p1_class</th>\n",
       "      <th>p1_hp</th>\n",
       "      <th>p1_ac</th>\n",
       "      <th>p1_avg_save</th>\n",
       "      <th>p2_class</th>\n",
       "      <th>p2_hp</th>\n",
       "      <th>p2_ac</th>\n",
       "      <th>p2_avg_save</th>\n",
       "      <th>p3_class</th>\n",
       "      <th>p3_hp</th>\n",
       "      <th>...</th>\n",
       "      <th>p4_class</th>\n",
       "      <th>p4_hp</th>\n",
       "      <th>p4_ac</th>\n",
       "      <th>p4_avg_save</th>\n",
       "      <th>num_of_monsters</th>\n",
       "      <th>monster_cr</th>\n",
       "      <th>monster_ac</th>\n",
       "      <th>monster_hp</th>\n",
       "      <th>monster_type</th>\n",
       "      <th>players_level</th>\n",
       "    </tr>\n",
       "  </thead>\n",
       "  <tbody>\n",
       "    <tr>\n",
       "      <th>13973</th>\n",
       "      <td>Rogue</td>\n",
       "      <td>25</td>\n",
       "      <td>12</td>\n",
       "      <td>3</td>\n",
       "      <td>Rogue</td>\n",
       "      <td>30</td>\n",
       "      <td>14</td>\n",
       "      <td>3</td>\n",
       "      <td>Warlock</td>\n",
       "      <td>24</td>\n",
       "      <td>...</td>\n",
       "      <td>Paladin</td>\n",
       "      <td>24</td>\n",
       "      <td>17</td>\n",
       "      <td>3</td>\n",
       "      <td>10</td>\n",
       "      <td>0.50</td>\n",
       "      <td>15</td>\n",
       "      <td>16</td>\n",
       "      <td>construct</td>\n",
       "      <td>3</td>\n",
       "    </tr>\n",
       "    <tr>\n",
       "      <th>66811</th>\n",
       "      <td>Monk</td>\n",
       "      <td>26</td>\n",
       "      <td>11</td>\n",
       "      <td>3</td>\n",
       "      <td>Barbarian</td>\n",
       "      <td>51</td>\n",
       "      <td>17</td>\n",
       "      <td>3</td>\n",
       "      <td>Sorcerer</td>\n",
       "      <td>16</td>\n",
       "      <td>...</td>\n",
       "      <td>Druid</td>\n",
       "      <td>36</td>\n",
       "      <td>11</td>\n",
       "      <td>3</td>\n",
       "      <td>10</td>\n",
       "      <td>0.25</td>\n",
       "      <td>13</td>\n",
       "      <td>7</td>\n",
       "      <td>dragon</td>\n",
       "      <td>4</td>\n",
       "    </tr>\n",
       "    <tr>\n",
       "      <th>20845</th>\n",
       "      <td>Artificer</td>\n",
       "      <td>32</td>\n",
       "      <td>17</td>\n",
       "      <td>3</td>\n",
       "      <td>Sorcerer</td>\n",
       "      <td>23</td>\n",
       "      <td>13</td>\n",
       "      <td>3</td>\n",
       "      <td>Barbarian</td>\n",
       "      <td>48</td>\n",
       "      <td>...</td>\n",
       "      <td>Artificer</td>\n",
       "      <td>37</td>\n",
       "      <td>12</td>\n",
       "      <td>3</td>\n",
       "      <td>10</td>\n",
       "      <td>0.25</td>\n",
       "      <td>11</td>\n",
       "      <td>13</td>\n",
       "      <td>humanoid</td>\n",
       "      <td>5</td>\n",
       "    </tr>\n",
       "    <tr>\n",
       "      <th>58638</th>\n",
       "      <td>Cleric</td>\n",
       "      <td>7</td>\n",
       "      <td>20</td>\n",
       "      <td>2</td>\n",
       "      <td>Ranger</td>\n",
       "      <td>8</td>\n",
       "      <td>12</td>\n",
       "      <td>2</td>\n",
       "      <td>Fighter</td>\n",
       "      <td>8</td>\n",
       "      <td>...</td>\n",
       "      <td>Monk</td>\n",
       "      <td>10</td>\n",
       "      <td>16</td>\n",
       "      <td>2</td>\n",
       "      <td>1</td>\n",
       "      <td>2.00</td>\n",
       "      <td>17</td>\n",
       "      <td>32</td>\n",
       "      <td>dragon</td>\n",
       "      <td>1</td>\n",
       "    </tr>\n",
       "    <tr>\n",
       "      <th>29864</th>\n",
       "      <td>Cleric</td>\n",
       "      <td>32</td>\n",
       "      <td>12</td>\n",
       "      <td>3</td>\n",
       "      <td>Warlock</td>\n",
       "      <td>39</td>\n",
       "      <td>14</td>\n",
       "      <td>3</td>\n",
       "      <td>Ranger</td>\n",
       "      <td>50</td>\n",
       "      <td>...</td>\n",
       "      <td>Sorcerer</td>\n",
       "      <td>29</td>\n",
       "      <td>15</td>\n",
       "      <td>3</td>\n",
       "      <td>3</td>\n",
       "      <td>5.00</td>\n",
       "      <td>9</td>\n",
       "      <td>93</td>\n",
       "      <td>construct</td>\n",
       "      <td>5</td>\n",
       "    </tr>\n",
       "  </tbody>\n",
       "</table>\n",
       "<p>5 rows × 22 columns</p>\n",
       "</div>"
      ],
      "text/plain": [
       "        p1_class  p1_hp  p1_ac  p1_avg_save   p2_class  p2_hp  p2_ac  \\\n",
       "13973      Rogue     25     12            3      Rogue     30     14   \n",
       "66811       Monk     26     11            3  Barbarian     51     17   \n",
       "20845  Artificer     32     17            3   Sorcerer     23     13   \n",
       "58638     Cleric      7     20            2     Ranger      8     12   \n",
       "29864     Cleric     32     12            3    Warlock     39     14   \n",
       "\n",
       "       p2_avg_save   p3_class  p3_hp  ...   p4_class  p4_hp p4_ac  \\\n",
       "13973            3    Warlock     24  ...    Paladin     24    17   \n",
       "66811            3   Sorcerer     16  ...      Druid     36    11   \n",
       "20845            3  Barbarian     48  ...  Artificer     37    12   \n",
       "58638            2    Fighter      8  ...       Monk     10    16   \n",
       "29864            3     Ranger     50  ...   Sorcerer     29    15   \n",
       "\n",
       "       p4_avg_save  num_of_monsters  monster_cr  monster_ac  monster_hp  \\\n",
       "13973            3               10        0.50          15          16   \n",
       "66811            3               10        0.25          13           7   \n",
       "20845            3               10        0.25          11          13   \n",
       "58638            2                1        2.00          17          32   \n",
       "29864            3                3        5.00           9          93   \n",
       "\n",
       "       monster_type  players_level  \n",
       "13973     construct              3  \n",
       "66811        dragon              4  \n",
       "20845      humanoid              5  \n",
       "58638        dragon              1  \n",
       "29864     construct              5  \n",
       "\n",
       "[5 rows x 22 columns]"
      ]
     },
     "execution_count": 129,
     "metadata": {},
     "output_type": "execute_result"
    }
   ],
   "source": [
    "X = df.drop(columns=['dificulty'])\n",
    "X.sample(5)"
   ]
  },
  {
   "cell_type": "code",
   "execution_count": 130,
   "metadata": {},
   "outputs": [
    {
     "data": {
      "text/plain": [
       "32651    0.368486\n",
       "59993    0.000000\n",
       "67355    0.116922\n",
       "17499    0.000000\n",
       "60271    1.000000\n",
       "Name: dificulty, dtype: float64"
      ]
     },
     "execution_count": 130,
     "metadata": {},
     "output_type": "execute_result"
    }
   ],
   "source": [
    "Y = df['dificulty'].copy()\n",
    "Y.sample(5)"
   ]
  },
  {
   "cell_type": "markdown",
   "metadata": {},
   "source": [
    "# One hot encoding the categorical data"
   ]
  },
  {
   "cell_type": "code",
   "execution_count": 131,
   "metadata": {},
   "outputs": [
    {
     "data": {
      "text/html": [
       "<div>\n",
       "<style scoped>\n",
       "    .dataframe tbody tr th:only-of-type {\n",
       "        vertical-align: middle;\n",
       "    }\n",
       "\n",
       "    .dataframe tbody tr th {\n",
       "        vertical-align: top;\n",
       "    }\n",
       "\n",
       "    .dataframe thead th {\n",
       "        text-align: right;\n",
       "    }\n",
       "</style>\n",
       "<table border=\"1\" class=\"dataframe\">\n",
       "  <thead>\n",
       "    <tr style=\"text-align: right;\">\n",
       "      <th></th>\n",
       "      <th>p1_hp</th>\n",
       "      <th>p1_ac</th>\n",
       "      <th>p1_avg_save</th>\n",
       "      <th>p2_hp</th>\n",
       "      <th>p2_ac</th>\n",
       "      <th>p2_avg_save</th>\n",
       "      <th>p3_hp</th>\n",
       "      <th>p3_ac</th>\n",
       "      <th>p3_avg_save</th>\n",
       "      <th>p4_hp</th>\n",
       "      <th>...</th>\n",
       "      <th>monster_type_dragon</th>\n",
       "      <th>monster_type_elemental</th>\n",
       "      <th>monster_type_fey</th>\n",
       "      <th>monster_type_fiend</th>\n",
       "      <th>monster_type_giant</th>\n",
       "      <th>monster_type_humanoid</th>\n",
       "      <th>monster_type_monstrosity</th>\n",
       "      <th>monster_type_ooze</th>\n",
       "      <th>monster_type_plant</th>\n",
       "      <th>monster_type_undead</th>\n",
       "    </tr>\n",
       "  </thead>\n",
       "  <tbody>\n",
       "    <tr>\n",
       "      <th>46639</th>\n",
       "      <td>24</td>\n",
       "      <td>13</td>\n",
       "      <td>2</td>\n",
       "      <td>9</td>\n",
       "      <td>12</td>\n",
       "      <td>2</td>\n",
       "      <td>15</td>\n",
       "      <td>11</td>\n",
       "      <td>2</td>\n",
       "      <td>22</td>\n",
       "      <td>...</td>\n",
       "      <td>False</td>\n",
       "      <td>False</td>\n",
       "      <td>False</td>\n",
       "      <td>False</td>\n",
       "      <td>False</td>\n",
       "      <td>False</td>\n",
       "      <td>False</td>\n",
       "      <td>False</td>\n",
       "      <td>False</td>\n",
       "      <td>False</td>\n",
       "    </tr>\n",
       "    <tr>\n",
       "      <th>2489</th>\n",
       "      <td>35</td>\n",
       "      <td>10</td>\n",
       "      <td>3</td>\n",
       "      <td>48</td>\n",
       "      <td>12</td>\n",
       "      <td>3</td>\n",
       "      <td>48</td>\n",
       "      <td>16</td>\n",
       "      <td>3</td>\n",
       "      <td>50</td>\n",
       "      <td>...</td>\n",
       "      <td>False</td>\n",
       "      <td>False</td>\n",
       "      <td>False</td>\n",
       "      <td>False</td>\n",
       "      <td>False</td>\n",
       "      <td>True</td>\n",
       "      <td>False</td>\n",
       "      <td>False</td>\n",
       "      <td>False</td>\n",
       "      <td>False</td>\n",
       "    </tr>\n",
       "    <tr>\n",
       "      <th>21970</th>\n",
       "      <td>40</td>\n",
       "      <td>17</td>\n",
       "      <td>3</td>\n",
       "      <td>42</td>\n",
       "      <td>13</td>\n",
       "      <td>3</td>\n",
       "      <td>25</td>\n",
       "      <td>16</td>\n",
       "      <td>3</td>\n",
       "      <td>43</td>\n",
       "      <td>...</td>\n",
       "      <td>True</td>\n",
       "      <td>False</td>\n",
       "      <td>False</td>\n",
       "      <td>False</td>\n",
       "      <td>False</td>\n",
       "      <td>False</td>\n",
       "      <td>False</td>\n",
       "      <td>False</td>\n",
       "      <td>False</td>\n",
       "      <td>False</td>\n",
       "    </tr>\n",
       "    <tr>\n",
       "      <th>54582</th>\n",
       "      <td>22</td>\n",
       "      <td>15</td>\n",
       "      <td>3</td>\n",
       "      <td>27</td>\n",
       "      <td>16</td>\n",
       "      <td>3</td>\n",
       "      <td>23</td>\n",
       "      <td>11</td>\n",
       "      <td>3</td>\n",
       "      <td>25</td>\n",
       "      <td>...</td>\n",
       "      <td>False</td>\n",
       "      <td>False</td>\n",
       "      <td>False</td>\n",
       "      <td>False</td>\n",
       "      <td>True</td>\n",
       "      <td>False</td>\n",
       "      <td>False</td>\n",
       "      <td>False</td>\n",
       "      <td>False</td>\n",
       "      <td>False</td>\n",
       "    </tr>\n",
       "    <tr>\n",
       "      <th>53944</th>\n",
       "      <td>25</td>\n",
       "      <td>14</td>\n",
       "      <td>3</td>\n",
       "      <td>24</td>\n",
       "      <td>11</td>\n",
       "      <td>3</td>\n",
       "      <td>27</td>\n",
       "      <td>15</td>\n",
       "      <td>3</td>\n",
       "      <td>21</td>\n",
       "      <td>...</td>\n",
       "      <td>False</td>\n",
       "      <td>False</td>\n",
       "      <td>False</td>\n",
       "      <td>False</td>\n",
       "      <td>False</td>\n",
       "      <td>False</td>\n",
       "      <td>False</td>\n",
       "      <td>False</td>\n",
       "      <td>False</td>\n",
       "      <td>False</td>\n",
       "    </tr>\n",
       "  </tbody>\n",
       "</table>\n",
       "<p>5 rows × 83 columns</p>\n",
       "</div>"
      ],
      "text/plain": [
       "       p1_hp  p1_ac  p1_avg_save  p2_hp  p2_ac  p2_avg_save  p3_hp  p3_ac  \\\n",
       "46639     24     13            2      9     12            2     15     11   \n",
       "2489      35     10            3     48     12            3     48     16   \n",
       "21970     40     17            3     42     13            3     25     16   \n",
       "54582     22     15            3     27     16            3     23     11   \n",
       "53944     25     14            3     24     11            3     27     15   \n",
       "\n",
       "       p3_avg_save  p4_hp  ...  monster_type_dragon  monster_type_elemental  \\\n",
       "46639            2     22  ...                False                   False   \n",
       "2489             3     50  ...                False                   False   \n",
       "21970            3     43  ...                 True                   False   \n",
       "54582            3     25  ...                False                   False   \n",
       "53944            3     21  ...                False                   False   \n",
       "\n",
       "       monster_type_fey  monster_type_fiend  monster_type_giant  \\\n",
       "46639             False               False               False   \n",
       "2489              False               False               False   \n",
       "21970             False               False               False   \n",
       "54582             False               False                True   \n",
       "53944             False               False               False   \n",
       "\n",
       "       monster_type_humanoid  monster_type_monstrosity  monster_type_ooze  \\\n",
       "46639                  False                     False              False   \n",
       "2489                    True                     False              False   \n",
       "21970                  False                     False              False   \n",
       "54582                  False                     False              False   \n",
       "53944                  False                     False              False   \n",
       "\n",
       "       monster_type_plant  monster_type_undead  \n",
       "46639               False                False  \n",
       "2489                False                False  \n",
       "21970               False                False  \n",
       "54582               False                False  \n",
       "53944               False                False  \n",
       "\n",
       "[5 rows x 83 columns]"
      ]
     },
     "execution_count": 131,
     "metadata": {},
     "output_type": "execute_result"
    }
   ],
   "source": [
    "X = pd.get_dummies(X, columns=[ 'p1_class', 'p2_class', 'p3_class', 'p4_class', 'monster_type'])\n",
    "X.sample(5)"
   ]
  },
  {
   "cell_type": "code",
   "execution_count": 132,
   "metadata": {},
   "outputs": [
    {
     "name": "stdout",
     "output_type": "stream",
     "text": [
      "67642\n",
      "67642\n"
     ]
    }
   ],
   "source": [
    "print(len(Y))\n",
    "print(len(X))"
   ]
  },
  {
   "cell_type": "markdown",
   "metadata": {},
   "source": [
    "# Splitting the dataset into the Training set and Test set"
   ]
  },
  {
   "cell_type": "code",
   "execution_count": 133,
   "metadata": {},
   "outputs": [],
   "source": [
    "from sklearn.model_selection import train_test_split\n",
    "\n",
    "X_train, X_test, Y_train, Y_test = train_test_split(X, Y, test_size=.2)"
   ]
  },
  {
   "cell_type": "markdown",
   "metadata": {},
   "source": [
    "# Fitting the XGBoost Regression to the dataset"
   ]
  },
  {
   "cell_type": "code",
   "execution_count": 134,
   "metadata": {},
   "outputs": [
    {
     "name": "stdout",
     "output_type": "stream",
     "text": [
      "[0]\tvalidation_0-rmse:0.35001\tvalidation_1-rmse:0.34853\n"
     ]
    },
    {
     "name": "stderr",
     "output_type": "stream",
     "text": [
      "c:\\Users\\Pedro\\OneDrive - Instituto Maua de Tecnologia\\5e_encounter_predictor\\.venv\\lib\\site-packages\\xgboost\\sklearn.py:885: UserWarning: `eval_metric` in `fit` method is deprecated for better compatibility with scikit-learn, use `eval_metric` in constructor or`set_params` instead.\n",
      "  warnings.warn(\n",
      "c:\\Users\\Pedro\\OneDrive - Instituto Maua de Tecnologia\\5e_encounter_predictor\\.venv\\lib\\site-packages\\xgboost\\core.py:160: UserWarning: [15:43:18] WARNING: C:\\buildkite-agent\\builds\\buildkite-windows-cpu-autoscaling-group-i-0750514818a16474a-1\\xgboost\\xgboost-ci-windows\\src\\learner.cc:742: \n",
      "Parameters: { \"eval_set\" } are not used.\n",
      "\n",
      "  warnings.warn(smsg, UserWarning)\n"
     ]
    },
    {
     "name": "stdout",
     "output_type": "stream",
     "text": [
      "[99]\tvalidation_0-rmse:0.16489\tvalidation_1-rmse:0.18992\n"
     ]
    },
    {
     "data": {
      "text/html": [
       "<style>#sk-container-id-4 {color: black;}#sk-container-id-4 pre{padding: 0;}#sk-container-id-4 div.sk-toggleable {background-color: white;}#sk-container-id-4 label.sk-toggleable__label {cursor: pointer;display: block;width: 100%;margin-bottom: 0;padding: 0.3em;box-sizing: border-box;text-align: center;}#sk-container-id-4 label.sk-toggleable__label-arrow:before {content: \"▸\";float: left;margin-right: 0.25em;color: #696969;}#sk-container-id-4 label.sk-toggleable__label-arrow:hover:before {color: black;}#sk-container-id-4 div.sk-estimator:hover label.sk-toggleable__label-arrow:before {color: black;}#sk-container-id-4 div.sk-toggleable__content {max-height: 0;max-width: 0;overflow: hidden;text-align: left;background-color: #f0f8ff;}#sk-container-id-4 div.sk-toggleable__content pre {margin: 0.2em;color: black;border-radius: 0.25em;background-color: #f0f8ff;}#sk-container-id-4 input.sk-toggleable__control:checked~div.sk-toggleable__content {max-height: 200px;max-width: 100%;overflow: auto;}#sk-container-id-4 input.sk-toggleable__control:checked~label.sk-toggleable__label-arrow:before {content: \"▾\";}#sk-container-id-4 div.sk-estimator input.sk-toggleable__control:checked~label.sk-toggleable__label {background-color: #d4ebff;}#sk-container-id-4 div.sk-label input.sk-toggleable__control:checked~label.sk-toggleable__label {background-color: #d4ebff;}#sk-container-id-4 input.sk-hidden--visually {border: 0;clip: rect(1px 1px 1px 1px);clip: rect(1px, 1px, 1px, 1px);height: 1px;margin: -1px;overflow: hidden;padding: 0;position: absolute;width: 1px;}#sk-container-id-4 div.sk-estimator {font-family: monospace;background-color: #f0f8ff;border: 1px dotted black;border-radius: 0.25em;box-sizing: border-box;margin-bottom: 0.5em;}#sk-container-id-4 div.sk-estimator:hover {background-color: #d4ebff;}#sk-container-id-4 div.sk-parallel-item::after {content: \"\";width: 100%;border-bottom: 1px solid gray;flex-grow: 1;}#sk-container-id-4 div.sk-label:hover label.sk-toggleable__label {background-color: #d4ebff;}#sk-container-id-4 div.sk-serial::before {content: \"\";position: absolute;border-left: 1px solid gray;box-sizing: border-box;top: 0;bottom: 0;left: 50%;z-index: 0;}#sk-container-id-4 div.sk-serial {display: flex;flex-direction: column;align-items: center;background-color: white;padding-right: 0.2em;padding-left: 0.2em;position: relative;}#sk-container-id-4 div.sk-item {position: relative;z-index: 1;}#sk-container-id-4 div.sk-parallel {display: flex;align-items: stretch;justify-content: center;background-color: white;position: relative;}#sk-container-id-4 div.sk-item::before, #sk-container-id-4 div.sk-parallel-item::before {content: \"\";position: absolute;border-left: 1px solid gray;box-sizing: border-box;top: 0;bottom: 0;left: 50%;z-index: -1;}#sk-container-id-4 div.sk-parallel-item {display: flex;flex-direction: column;z-index: 1;position: relative;background-color: white;}#sk-container-id-4 div.sk-parallel-item:first-child::after {align-self: flex-end;width: 50%;}#sk-container-id-4 div.sk-parallel-item:last-child::after {align-self: flex-start;width: 50%;}#sk-container-id-4 div.sk-parallel-item:only-child::after {width: 0;}#sk-container-id-4 div.sk-dashed-wrapped {border: 1px dashed gray;margin: 0 0.4em 0.5em 0.4em;box-sizing: border-box;padding-bottom: 0.4em;background-color: white;}#sk-container-id-4 div.sk-label label {font-family: monospace;font-weight: bold;display: inline-block;line-height: 1.2em;}#sk-container-id-4 div.sk-label-container {text-align: center;}#sk-container-id-4 div.sk-container {/* jupyter's `normalize.less` sets `[hidden] { display: none; }` but bootstrap.min.css set `[hidden] { display: none !important; }` so we also need the `!important` here to be able to override the default hidden behavior on the sphinx rendered scikit-learn.org. See: https://github.com/scikit-learn/scikit-learn/issues/21755 */display: inline-block !important;position: relative;}#sk-container-id-4 div.sk-text-repr-fallback {display: none;}</style><div id=\"sk-container-id-4\" class=\"sk-top-container\"><div class=\"sk-text-repr-fallback\"><pre>XGBRegressor(base_score=None, booster=None, callbacks=None,\n",
       "             colsample_bylevel=None, colsample_bynode=None,\n",
       "             colsample_bytree=None, device=None, early_stopping_rounds=10,\n",
       "             enable_categorical=False, eval_metric=None,\n",
       "             eval_set=[(       p1_hp  p1_ac  p1_avg_save  p2_hp  p2_ac  p2_avg_save  p3_hp  p3_ac  \\\n",
       "9637      21     14            3     25     18            3     18     14   \n",
       "29540     29     18            3     23     13            3     19     15   \n",
       "24492     15     14            2     20     17            2     19     14   \n",
       "44027     30     16            3     26     17            3     18     10   \n",
       "55078     28     1...\n",
       "             feature_types=None, gamma=None, grow_policy=None,\n",
       "             importance_type=None, interaction_constraints=None,\n",
       "             learning_rate=None, max_bin=None, max_cat_threshold=None,\n",
       "             max_cat_to_onehot=None, max_delta_step=None, max_depth=None,\n",
       "             max_leaves=None, min_child_weight=None, missing=nan,\n",
       "             monotone_constraints=None, multi_strategy=None, n_estimators=None,\n",
       "             n_jobs=None, num_parallel_tree=None, ...)</pre><b>In a Jupyter environment, please rerun this cell to show the HTML representation or trust the notebook. <br />On GitHub, the HTML representation is unable to render, please try loading this page with nbviewer.org.</b></div><div class=\"sk-container\" hidden><div class=\"sk-item\"><div class=\"sk-estimator sk-toggleable\"><input class=\"sk-toggleable__control sk-hidden--visually\" id=\"sk-estimator-id-4\" type=\"checkbox\" checked><label for=\"sk-estimator-id-4\" class=\"sk-toggleable__label sk-toggleable__label-arrow\">XGBRegressor</label><div class=\"sk-toggleable__content\"><pre>XGBRegressor(base_score=None, booster=None, callbacks=None,\n",
       "             colsample_bylevel=None, colsample_bynode=None,\n",
       "             colsample_bytree=None, device=None, early_stopping_rounds=10,\n",
       "             enable_categorical=False, eval_metric=None,\n",
       "             eval_set=[(       p1_hp  p1_ac  p1_avg_save  p2_hp  p2_ac  p2_avg_save  p3_hp  p3_ac  \\\n",
       "9637      21     14            3     25     18            3     18     14   \n",
       "29540     29     18            3     23     13            3     19     15   \n",
       "24492     15     14            2     20     17            2     19     14   \n",
       "44027     30     16            3     26     17            3     18     10   \n",
       "55078     28     1...\n",
       "             feature_types=None, gamma=None, grow_policy=None,\n",
       "             importance_type=None, interaction_constraints=None,\n",
       "             learning_rate=None, max_bin=None, max_cat_threshold=None,\n",
       "             max_cat_to_onehot=None, max_delta_step=None, max_depth=None,\n",
       "             max_leaves=None, min_child_weight=None, missing=nan,\n",
       "             monotone_constraints=None, multi_strategy=None, n_estimators=None,\n",
       "             n_jobs=None, num_parallel_tree=None, ...)</pre></div></div></div></div></div>"
      ],
      "text/plain": [
       "XGBRegressor(base_score=None, booster=None, callbacks=None,\n",
       "             colsample_bylevel=None, colsample_bynode=None,\n",
       "             colsample_bytree=None, device=None, early_stopping_rounds=10,\n",
       "             enable_categorical=False, eval_metric=None,\n",
       "             eval_set=[(       p1_hp  p1_ac  p1_avg_save  p2_hp  p2_ac  p2_avg_save  p3_hp  p3_ac  \\\n",
       "9637      21     14            3     25     18            3     18     14   \n",
       "29540     29     18            3     23     13            3     19     15   \n",
       "24492     15     14            2     20     17            2     19     14   \n",
       "44027     30     16            3     26     17            3     18     10   \n",
       "55078     28     1...\n",
       "             feature_types=None, gamma=None, grow_policy=None,\n",
       "             importance_type=None, interaction_constraints=None,\n",
       "             learning_rate=None, max_bin=None, max_cat_threshold=None,\n",
       "             max_cat_to_onehot=None, max_delta_step=None, max_depth=None,\n",
       "             max_leaves=None, min_child_weight=None, missing=nan,\n",
       "             monotone_constraints=None, multi_strategy=None, n_estimators=None,\n",
       "             n_jobs=None, num_parallel_tree=None, ...)"
      ]
     },
     "execution_count": 134,
     "metadata": {},
     "output_type": "execute_result"
    }
   ],
   "source": [
    "import xgboost as xgb\n",
    "\n",
    "clfXGB = xgb.XGBRegressor(early_stopping_rounds=10, eval_set=[(X_test, Y_test)])\n",
    "clfXGB.fit( X_train,\n",
    "            Y_train,\n",
    "            verbose=100,\n",
    "            eval_metric='rmse',\n",
    "            eval_set=[(X_train, Y_train),(X_test, Y_test)]\n",
    "            )"
   ]
  },
  {
   "cell_type": "markdown",
   "metadata": {},
   "source": [
    "# Predicting the using the model"
   ]
  },
  {
   "cell_type": "code",
   "execution_count": 135,
   "metadata": {},
   "outputs": [],
   "source": [
    "from random import randint\n",
    "\n",
    "def predict(model):\n",
    "    input_test = randint(0, len(X_test))\n",
    "    row_input = pd.DataFrame(X.iloc[input_test]).T\n",
    "    print('Input: ')\n",
    "    display(row_input)\n",
    "    print(f'The combat was btween 4 players level {row_input.players_level.values[0]} against {row_input.num_of_monsters.values[0]} monster(s) CR {row_input.monster_cr.values[0]}')\n",
    "    print('Expected: ', Y.iloc[input_test])\n",
    "    print('Predicted: ', model.predict(row_input.values)[0])"
   ]
  },
  {
   "cell_type": "code",
   "execution_count": 136,
   "metadata": {},
   "outputs": [
    {
     "data": {
      "text/html": [
       "<div>\n",
       "<style scoped>\n",
       "    .dataframe tbody tr th:only-of-type {\n",
       "        vertical-align: middle;\n",
       "    }\n",
       "\n",
       "    .dataframe tbody tr th {\n",
       "        vertical-align: top;\n",
       "    }\n",
       "\n",
       "    .dataframe thead th {\n",
       "        text-align: right;\n",
       "    }\n",
       "</style>\n",
       "<table border=\"1\" class=\"dataframe\">\n",
       "  <thead>\n",
       "    <tr style=\"text-align: right;\">\n",
       "      <th></th>\n",
       "      <th>p1_hp</th>\n",
       "      <th>p1_ac</th>\n",
       "      <th>p1_avg_save</th>\n",
       "      <th>p2_hp</th>\n",
       "      <th>p2_ac</th>\n",
       "      <th>p2_avg_save</th>\n",
       "      <th>p3_hp</th>\n",
       "      <th>p3_ac</th>\n",
       "      <th>p3_avg_save</th>\n",
       "      <th>p4_hp</th>\n",
       "      <th>...</th>\n",
       "      <th>monster_type_dragon</th>\n",
       "      <th>monster_type_elemental</th>\n",
       "      <th>monster_type_fey</th>\n",
       "      <th>monster_type_fiend</th>\n",
       "      <th>monster_type_giant</th>\n",
       "      <th>monster_type_humanoid</th>\n",
       "      <th>monster_type_monstrosity</th>\n",
       "      <th>monster_type_ooze</th>\n",
       "      <th>monster_type_plant</th>\n",
       "      <th>monster_type_undead</th>\n",
       "    </tr>\n",
       "  </thead>\n",
       "  <tbody>\n",
       "    <tr>\n",
       "      <th>0</th>\n",
       "      <td>38</td>\n",
       "      <td>12</td>\n",
       "      <td>3</td>\n",
       "      <td>38</td>\n",
       "      <td>13</td>\n",
       "      <td>3</td>\n",
       "      <td>51</td>\n",
       "      <td>17</td>\n",
       "      <td>3</td>\n",
       "      <td>43</td>\n",
       "      <td>...</td>\n",
       "      <td>False</td>\n",
       "      <td>True</td>\n",
       "      <td>False</td>\n",
       "      <td>False</td>\n",
       "      <td>False</td>\n",
       "      <td>False</td>\n",
       "      <td>False</td>\n",
       "      <td>False</td>\n",
       "      <td>False</td>\n",
       "      <td>False</td>\n",
       "    </tr>\n",
       "  </tbody>\n",
       "</table>\n",
       "<p>1 rows × 83 columns</p>\n",
       "</div>"
      ],
      "text/plain": [
       "  p1_hp p1_ac p1_avg_save p2_hp p2_ac p2_avg_save p3_hp p3_ac p3_avg_save  \\\n",
       "0    38    12           3    38    13           3    51    17           3   \n",
       "\n",
       "  p4_hp  ... monster_type_dragon monster_type_elemental monster_type_fey  \\\n",
       "0    43  ...               False                   True            False   \n",
       "\n",
       "  monster_type_fiend monster_type_giant monster_type_humanoid  \\\n",
       "0              False              False                 False   \n",
       "\n",
       "  monster_type_monstrosity monster_type_ooze monster_type_plant  \\\n",
       "0                    False             False              False   \n",
       "\n",
       "  monster_type_undead  \n",
       "0               False  \n",
       "\n",
       "[1 rows x 83 columns]"
      ]
     },
     "execution_count": 136,
     "metadata": {},
     "output_type": "execute_result"
    }
   ],
   "source": [
    "pd.DataFrame(X.iloc[0]).T"
   ]
  },
  {
   "cell_type": "code",
   "execution_count": 208,
   "metadata": {},
   "outputs": [
    {
     "name": "stdout",
     "output_type": "stream",
     "text": [
      "Input: \n"
     ]
    },
    {
     "data": {
      "text/html": [
       "<div>\n",
       "<style scoped>\n",
       "    .dataframe tbody tr th:only-of-type {\n",
       "        vertical-align: middle;\n",
       "    }\n",
       "\n",
       "    .dataframe tbody tr th {\n",
       "        vertical-align: top;\n",
       "    }\n",
       "\n",
       "    .dataframe thead th {\n",
       "        text-align: right;\n",
       "    }\n",
       "</style>\n",
       "<table border=\"1\" class=\"dataframe\">\n",
       "  <thead>\n",
       "    <tr style=\"text-align: right;\">\n",
       "      <th></th>\n",
       "      <th>p1_hp</th>\n",
       "      <th>p1_ac</th>\n",
       "      <th>p1_avg_save</th>\n",
       "      <th>p2_hp</th>\n",
       "      <th>p2_ac</th>\n",
       "      <th>p2_avg_save</th>\n",
       "      <th>p3_hp</th>\n",
       "      <th>p3_ac</th>\n",
       "      <th>p3_avg_save</th>\n",
       "      <th>p4_hp</th>\n",
       "      <th>...</th>\n",
       "      <th>monster_type_dragon</th>\n",
       "      <th>monster_type_elemental</th>\n",
       "      <th>monster_type_fey</th>\n",
       "      <th>monster_type_fiend</th>\n",
       "      <th>monster_type_giant</th>\n",
       "      <th>monster_type_humanoid</th>\n",
       "      <th>monster_type_monstrosity</th>\n",
       "      <th>monster_type_ooze</th>\n",
       "      <th>monster_type_plant</th>\n",
       "      <th>monster_type_undead</th>\n",
       "    </tr>\n",
       "  </thead>\n",
       "  <tbody>\n",
       "    <tr>\n",
       "      <th>1253</th>\n",
       "      <td>4</td>\n",
       "      <td>14</td>\n",
       "      <td>2</td>\n",
       "      <td>5</td>\n",
       "      <td>14</td>\n",
       "      <td>2</td>\n",
       "      <td>6</td>\n",
       "      <td>13</td>\n",
       "      <td>2</td>\n",
       "      <td>9</td>\n",
       "      <td>...</td>\n",
       "      <td>True</td>\n",
       "      <td>False</td>\n",
       "      <td>False</td>\n",
       "      <td>False</td>\n",
       "      <td>False</td>\n",
       "      <td>False</td>\n",
       "      <td>False</td>\n",
       "      <td>False</td>\n",
       "      <td>False</td>\n",
       "      <td>False</td>\n",
       "    </tr>\n",
       "  </tbody>\n",
       "</table>\n",
       "<p>1 rows × 83 columns</p>\n",
       "</div>"
      ],
      "text/plain": [
       "     p1_hp p1_ac p1_avg_save p2_hp p2_ac p2_avg_save p3_hp p3_ac p3_avg_save  \\\n",
       "1253     4    14           2     5    14           2     6    13           2   \n",
       "\n",
       "     p4_hp  ... monster_type_dragon monster_type_elemental monster_type_fey  \\\n",
       "1253     9  ...                True                  False            False   \n",
       "\n",
       "     monster_type_fiend monster_type_giant monster_type_humanoid  \\\n",
       "1253              False              False                 False   \n",
       "\n",
       "     monster_type_monstrosity monster_type_ooze monster_type_plant  \\\n",
       "1253                    False             False              False   \n",
       "\n",
       "     monster_type_undead  \n",
       "1253               False  \n",
       "\n",
       "[1 rows x 83 columns]"
      ]
     },
     "metadata": {},
     "output_type": "display_data"
    },
    {
     "name": "stdout",
     "output_type": "stream",
     "text": [
      "The combat was btween 4 players level 1 against 1 monster(s) CR 2.0\n",
      "Expected:  0.5214588634435962\n",
      "Predicted:  0.64512587\n"
     ]
    }
   ],
   "source": [
    "predict(clfXGB)"
   ]
  },
  {
   "cell_type": "markdown",
   "metadata": {},
   "source": [
    "# Seeing the model feature importance"
   ]
  },
  {
   "cell_type": "code",
   "execution_count": 209,
   "metadata": {},
   "outputs": [
    {
     "data": {
      "text/plain": [
       "<Axes: title={'center': 'Feature importance'}, xlabel='F score', ylabel='Features'>"
      ]
     },
     "execution_count": 209,
     "metadata": {},
     "output_type": "execute_result"
    },
    {
     "data": {
      "image/png": "[encoded data removed]",
      "text/plain": [
       "<Figure size 640x480 with 1 Axes>"
      ]
     },
     "metadata": {},
     "output_type": "display_data"
    }
   ],
   "source": [
    "from xgboost import plot_importance\n",
    "\n",
    "plot_importance(clfXGB, max_num_features=20, importance_type='weight')"
   ]
  },
  {
   "cell_type": "markdown",
   "metadata": {},
   "source": [
    "# Hyperparameter tuning using GridSearchCV"
   ]
  },
  {
   "cell_type": "code",
   "execution_count": 139,
   "metadata": {},
   "outputs": [],
   "source": [
    "from sklearn.model_selection import GridSearchCV\n",
    "\n",
    "def parameter_search(params):\n",
    "    search = GridSearchCV(xgb.XGBRegressor(\n",
    "                            subsample=0.9,\n",
    "                            colsample_bytree=0.5,\n",
    "                            ),\n",
    "                            param_grid=params,\n",
    "                            scoring=['r2','neg_mean_squared_error'],\n",
    "                            refit='r2',\n",
    "                            n_jobs=-1,\n",
    "                            cv=5,\n",
    "                            verbose=4)\n",
    "    search.fit(X_train, Y_train)\n",
    "    print(search.best_score_)\n",
    "    return search.best_params_"
   ]
  },
  {
   "cell_type": "markdown",
   "metadata": {},
   "source": [
    "## Round 1"
   ]
  },
  {
   "cell_type": "code",
   "execution_count": 140,
   "metadata": {},
   "outputs": [
    {
     "name": "stdout",
     "output_type": "stream",
     "text": [
      "Fitting 5 folds for each of 2187 candidates, totalling 10935 fits\n"
     ]
    },
    {
     "ename": "KeyboardInterrupt",
     "evalue": "",
     "output_type": "error",
     "traceback": [
      "\u001b[1;31m---------------------------------------------------------------------------\u001b[0m",
      "\u001b[1;31mKeyboardInterrupt\u001b[0m                         Traceback (most recent call last)",
      "\u001b[1;32mc:\\Users\\Pedro\\OneDrive - Instituto Maua de Tecnologia\\5e_encounter_predictor\\Model\\Regression.ipynb Cell 30\u001b[0m line \u001b[0;36m1\n\u001b[0;32m      <a href='vscode-notebook-cell:/c%3A/Users/Pedro/OneDrive%20-%20Instituto%20Maua%20de%20Tecnologia/5e_encounter_predictor/Model/Regression.ipynb#X43sZmlsZQ%3D%3D?line=0'>1</a>\u001b[0m search_sapce \u001b[39m=\u001b[39m {\n\u001b[0;32m      <a href='vscode-notebook-cell:/c%3A/Users/Pedro/OneDrive%20-%20Instituto%20Maua%20de%20Tecnologia/5e_encounter_predictor/Model/Regression.ipynb#X43sZmlsZQ%3D%3D?line=1'>2</a>\u001b[0m     \u001b[39m'\u001b[39m\u001b[39mn_estimators\u001b[39m\u001b[39m'\u001b[39m: [\u001b[39m100\u001b[39m, \u001b[39m150\u001b[39m, \u001b[39m200\u001b[39m],\n\u001b[0;32m      <a href='vscode-notebook-cell:/c%3A/Users/Pedro/OneDrive%20-%20Instituto%20Maua%20de%20Tecnologia/5e_encounter_predictor/Model/Regression.ipynb#X43sZmlsZQ%3D%3D?line=2'>3</a>\u001b[0m     \u001b[39m'\u001b[39m\u001b[39mmax_depth\u001b[39m\u001b[39m'\u001b[39m: [\u001b[39m1\u001b[39m, \u001b[39m3\u001b[39m, \u001b[39m5\u001b[39m],\n\u001b[1;32m   (...)\u001b[0m\n\u001b[0;32m      <a href='vscode-notebook-cell:/c%3A/Users/Pedro/OneDrive%20-%20Instituto%20Maua%20de%20Tecnologia/5e_encounter_predictor/Model/Regression.ipynb#X43sZmlsZQ%3D%3D?line=7'>8</a>\u001b[0m     \u001b[39m'\u001b[39m\u001b[39mbase_score\u001b[39m\u001b[39m'\u001b[39m: [\u001b[39m0.2\u001b[39m, \u001b[39m0.5\u001b[39m, \u001b[39m0.8\u001b[39m],\n\u001b[0;32m      <a href='vscode-notebook-cell:/c%3A/Users/Pedro/OneDrive%20-%20Instituto%20Maua%20de%20Tecnologia/5e_encounter_predictor/Model/Regression.ipynb#X43sZmlsZQ%3D%3D?line=8'>9</a>\u001b[0m }\n\u001b[1;32m---> <a href='vscode-notebook-cell:/c%3A/Users/Pedro/OneDrive%20-%20Instituto%20Maua%20de%20Tecnologia/5e_encounter_predictor/Model/Regression.ipynb#X43sZmlsZQ%3D%3D?line=10'>11</a>\u001b[0m parameter_search(search_sapce)\n",
      "\u001b[1;32mc:\\Users\\Pedro\\OneDrive - Instituto Maua de Tecnologia\\5e_encounter_predictor\\Model\\Regression.ipynb Cell 30\u001b[0m line \u001b[0;36m1\n\u001b[0;32m      <a href='vscode-notebook-cell:/c%3A/Users/Pedro/OneDrive%20-%20Instituto%20Maua%20de%20Tecnologia/5e_encounter_predictor/Model/Regression.ipynb#X43sZmlsZQ%3D%3D?line=1'>2</a>\u001b[0m \u001b[39mdef\u001b[39;00m \u001b[39mparameter_search\u001b[39m(params):\n\u001b[0;32m      <a href='vscode-notebook-cell:/c%3A/Users/Pedro/OneDrive%20-%20Instituto%20Maua%20de%20Tecnologia/5e_encounter_predictor/Model/Regression.ipynb#X43sZmlsZQ%3D%3D?line=2'>3</a>\u001b[0m     search \u001b[39m=\u001b[39m GridSearchCV(xgb\u001b[39m.\u001b[39mXGBRegressor(\n\u001b[0;32m      <a href='vscode-notebook-cell:/c%3A/Users/Pedro/OneDrive%20-%20Instituto%20Maua%20de%20Tecnologia/5e_encounter_predictor/Model/Regression.ipynb#X43sZmlsZQ%3D%3D?line=3'>4</a>\u001b[0m                             subsample\u001b[39m=\u001b[39m\u001b[39m0.9\u001b[39m,\n\u001b[0;32m      <a href='vscode-notebook-cell:/c%3A/Users/Pedro/OneDrive%20-%20Instituto%20Maua%20de%20Tecnologia/5e_encounter_predictor/Model/Regression.ipynb#X43sZmlsZQ%3D%3D?line=4'>5</a>\u001b[0m                             colsample_bytree\u001b[39m=\u001b[39m\u001b[39m0.5\u001b[39m,\n\u001b[1;32m   (...)\u001b[0m\n\u001b[0;32m     <a href='vscode-notebook-cell:/c%3A/Users/Pedro/OneDrive%20-%20Instituto%20Maua%20de%20Tecnologia/5e_encounter_predictor/Model/Regression.ipynb#X43sZmlsZQ%3D%3D?line=10'>11</a>\u001b[0m                             cv\u001b[39m=\u001b[39m\u001b[39m5\u001b[39m,\n\u001b[0;32m     <a href='vscode-notebook-cell:/c%3A/Users/Pedro/OneDrive%20-%20Instituto%20Maua%20de%20Tecnologia/5e_encounter_predictor/Model/Regression.ipynb#X43sZmlsZQ%3D%3D?line=11'>12</a>\u001b[0m                             verbose\u001b[39m=\u001b[39m\u001b[39m4\u001b[39m)\n\u001b[1;32m---> <a href='vscode-notebook-cell:/c%3A/Users/Pedro/OneDrive%20-%20Instituto%20Maua%20de%20Tecnologia/5e_encounter_predictor/Model/Regression.ipynb#X43sZmlsZQ%3D%3D?line=12'>13</a>\u001b[0m     search\u001b[39m.\u001b[39;49mfit(X_train, Y_train)\n\u001b[0;32m     <a href='vscode-notebook-cell:/c%3A/Users/Pedro/OneDrive%20-%20Instituto%20Maua%20de%20Tecnologia/5e_encounter_predictor/Model/Regression.ipynb#X43sZmlsZQ%3D%3D?line=13'>14</a>\u001b[0m     \u001b[39mprint\u001b[39m(search\u001b[39m.\u001b[39mbest_score_)\n\u001b[0;32m     <a href='vscode-notebook-cell:/c%3A/Users/Pedro/OneDrive%20-%20Instituto%20Maua%20de%20Tecnologia/5e_encounter_predictor/Model/Regression.ipynb#X43sZmlsZQ%3D%3D?line=14'>15</a>\u001b[0m     \u001b[39mreturn\u001b[39;00m search\u001b[39m.\u001b[39mbest_params_\n",
      "File \u001b[1;32mc:\\Users\\Pedro\\OneDrive - Instituto Maua de Tecnologia\\5e_encounter_predictor\\.venv\\lib\\site-packages\\sklearn\\base.py:1152\u001b[0m, in \u001b[0;36m_fit_context.<locals>.decorator.<locals>.wrapper\u001b[1;34m(estimator, *args, **kwargs)\u001b[0m\n\u001b[0;32m   1145\u001b[0m     estimator\u001b[39m.\u001b[39m_validate_params()\n\u001b[0;32m   1147\u001b[0m \u001b[39mwith\u001b[39;00m config_context(\n\u001b[0;32m   1148\u001b[0m     skip_parameter_validation\u001b[39m=\u001b[39m(\n\u001b[0;32m   1149\u001b[0m         prefer_skip_nested_validation \u001b[39mor\u001b[39;00m global_skip_validation\n\u001b[0;32m   1150\u001b[0m     )\n\u001b[0;32m   1151\u001b[0m ):\n\u001b[1;32m-> 1152\u001b[0m     \u001b[39mreturn\u001b[39;00m fit_method(estimator, \u001b[39m*\u001b[39margs, \u001b[39m*\u001b[39m\u001b[39m*\u001b[39mkwargs)\n",
      "File \u001b[1;32mc:\\Users\\Pedro\\OneDrive - Instituto Maua de Tecnologia\\5e_encounter_predictor\\.venv\\lib\\site-packages\\sklearn\\model_selection\\_search.py:898\u001b[0m, in \u001b[0;36mBaseSearchCV.fit\u001b[1;34m(self, X, y, groups, **fit_params)\u001b[0m\n\u001b[0;32m    892\u001b[0m     results \u001b[39m=\u001b[39m \u001b[39mself\u001b[39m\u001b[39m.\u001b[39m_format_results(\n\u001b[0;32m    893\u001b[0m         all_candidate_params, n_splits, all_out, all_more_results\n\u001b[0;32m    894\u001b[0m     )\n\u001b[0;32m    896\u001b[0m     \u001b[39mreturn\u001b[39;00m results\n\u001b[1;32m--> 898\u001b[0m \u001b[39mself\u001b[39;49m\u001b[39m.\u001b[39;49m_run_search(evaluate_candidates)\n\u001b[0;32m    900\u001b[0m \u001b[39m# multimetric is determined here because in the case of a callable\u001b[39;00m\n\u001b[0;32m    901\u001b[0m \u001b[39m# self.scoring the return type is only known after calling\u001b[39;00m\n\u001b[0;32m    902\u001b[0m first_test_score \u001b[39m=\u001b[39m all_out[\u001b[39m0\u001b[39m][\u001b[39m\"\u001b[39m\u001b[39mtest_scores\u001b[39m\u001b[39m\"\u001b[39m]\n",
      "File \u001b[1;32mc:\\Users\\Pedro\\OneDrive - Instituto Maua de Tecnologia\\5e_encounter_predictor\\.venv\\lib\\site-packages\\sklearn\\model_selection\\_search.py:1422\u001b[0m, in \u001b[0;36mGridSearchCV._run_search\u001b[1;34m(self, evaluate_candidates)\u001b[0m\n\u001b[0;32m   1420\u001b[0m \u001b[39mdef\u001b[39;00m \u001b[39m_run_search\u001b[39m(\u001b[39mself\u001b[39m, evaluate_candidates):\n\u001b[0;32m   1421\u001b[0m \u001b[39m    \u001b[39m\u001b[39m\"\"\"Search all candidates in param_grid\"\"\"\u001b[39;00m\n\u001b[1;32m-> 1422\u001b[0m     evaluate_candidates(ParameterGrid(\u001b[39mself\u001b[39;49m\u001b[39m.\u001b[39;49mparam_grid))\n",
      "File \u001b[1;32mc:\\Users\\Pedro\\OneDrive - Instituto Maua de Tecnologia\\5e_encounter_predictor\\.venv\\lib\\site-packages\\sklearn\\model_selection\\_search.py:845\u001b[0m, in \u001b[0;36mBaseSearchCV.fit.<locals>.evaluate_candidates\u001b[1;34m(candidate_params, cv, more_results)\u001b[0m\n\u001b[0;32m    837\u001b[0m \u001b[39mif\u001b[39;00m \u001b[39mself\u001b[39m\u001b[39m.\u001b[39mverbose \u001b[39m>\u001b[39m \u001b[39m0\u001b[39m:\n\u001b[0;32m    838\u001b[0m     \u001b[39mprint\u001b[39m(\n\u001b[0;32m    839\u001b[0m         \u001b[39m\"\u001b[39m\u001b[39mFitting \u001b[39m\u001b[39m{0}\u001b[39;00m\u001b[39m folds for each of \u001b[39m\u001b[39m{1}\u001b[39;00m\u001b[39m candidates,\u001b[39m\u001b[39m\"\u001b[39m\n\u001b[0;32m    840\u001b[0m         \u001b[39m\"\u001b[39m\u001b[39m totalling \u001b[39m\u001b[39m{2}\u001b[39;00m\u001b[39m fits\u001b[39m\u001b[39m\"\u001b[39m\u001b[39m.\u001b[39mformat(\n\u001b[0;32m    841\u001b[0m             n_splits, n_candidates, n_candidates \u001b[39m*\u001b[39m n_splits\n\u001b[0;32m    842\u001b[0m         )\n\u001b[0;32m    843\u001b[0m     )\n\u001b[1;32m--> 845\u001b[0m out \u001b[39m=\u001b[39m parallel(\n\u001b[0;32m    846\u001b[0m     delayed(_fit_and_score)(\n\u001b[0;32m    847\u001b[0m         clone(base_estimator),\n\u001b[0;32m    848\u001b[0m         X,\n\u001b[0;32m    849\u001b[0m         y,\n\u001b[0;32m    850\u001b[0m         train\u001b[39m=\u001b[39;49mtrain,\n\u001b[0;32m    851\u001b[0m         test\u001b[39m=\u001b[39;49mtest,\n\u001b[0;32m    852\u001b[0m         parameters\u001b[39m=\u001b[39;49mparameters,\n\u001b[0;32m    853\u001b[0m         split_progress\u001b[39m=\u001b[39;49m(split_idx, n_splits),\n\u001b[0;32m    854\u001b[0m         candidate_progress\u001b[39m=\u001b[39;49m(cand_idx, n_candidates),\n\u001b[0;32m    855\u001b[0m         \u001b[39m*\u001b[39;49m\u001b[39m*\u001b[39;49mfit_and_score_kwargs,\n\u001b[0;32m    856\u001b[0m     )\n\u001b[0;32m    857\u001b[0m     \u001b[39mfor\u001b[39;49;00m (cand_idx, parameters), (split_idx, (train, test)) \u001b[39min\u001b[39;49;00m product(\n\u001b[0;32m    858\u001b[0m         \u001b[39menumerate\u001b[39;49m(candidate_params), \u001b[39menumerate\u001b[39;49m(cv\u001b[39m.\u001b[39;49msplit(X, y, groups))\n\u001b[0;32m    859\u001b[0m     )\n\u001b[0;32m    860\u001b[0m )\n\u001b[0;32m    862\u001b[0m \u001b[39mif\u001b[39;00m \u001b[39mlen\u001b[39m(out) \u001b[39m<\u001b[39m \u001b[39m1\u001b[39m:\n\u001b[0;32m    863\u001b[0m     \u001b[39mraise\u001b[39;00m \u001b[39mValueError\u001b[39;00m(\n\u001b[0;32m    864\u001b[0m         \u001b[39m\"\u001b[39m\u001b[39mNo fits were performed. \u001b[39m\u001b[39m\"\u001b[39m\n\u001b[0;32m    865\u001b[0m         \u001b[39m\"\u001b[39m\u001b[39mWas the CV iterator empty? \u001b[39m\u001b[39m\"\u001b[39m\n\u001b[0;32m    866\u001b[0m         \u001b[39m\"\u001b[39m\u001b[39mWere there no candidates?\u001b[39m\u001b[39m\"\u001b[39m\n\u001b[0;32m    867\u001b[0m     )\n",
      "File \u001b[1;32mc:\\Users\\Pedro\\OneDrive - Instituto Maua de Tecnologia\\5e_encounter_predictor\\.venv\\lib\\site-packages\\sklearn\\utils\\parallel.py:65\u001b[0m, in \u001b[0;36mParallel.__call__\u001b[1;34m(self, iterable)\u001b[0m\n\u001b[0;32m     60\u001b[0m config \u001b[39m=\u001b[39m get_config()\n\u001b[0;32m     61\u001b[0m iterable_with_config \u001b[39m=\u001b[39m (\n\u001b[0;32m     62\u001b[0m     (_with_config(delayed_func, config), args, kwargs)\n\u001b[0;32m     63\u001b[0m     \u001b[39mfor\u001b[39;00m delayed_func, args, kwargs \u001b[39min\u001b[39;00m iterable\n\u001b[0;32m     64\u001b[0m )\n\u001b[1;32m---> 65\u001b[0m \u001b[39mreturn\u001b[39;00m \u001b[39msuper\u001b[39;49m()\u001b[39m.\u001b[39;49m\u001b[39m__call__\u001b[39;49m(iterable_with_config)\n",
      "File \u001b[1;32mc:\\Users\\Pedro\\OneDrive - Instituto Maua de Tecnologia\\5e_encounter_predictor\\.venv\\lib\\site-packages\\joblib\\parallel.py:1952\u001b[0m, in \u001b[0;36mParallel.__call__\u001b[1;34m(self, iterable)\u001b[0m\n\u001b[0;32m   1946\u001b[0m \u001b[39m# The first item from the output is blank, but it makes the interpreter\u001b[39;00m\n\u001b[0;32m   1947\u001b[0m \u001b[39m# progress until it enters the Try/Except block of the generator and\u001b[39;00m\n\u001b[0;32m   1948\u001b[0m \u001b[39m# reach the first `yield` statement. This starts the aynchronous\u001b[39;00m\n\u001b[0;32m   1949\u001b[0m \u001b[39m# dispatch of the tasks to the workers.\u001b[39;00m\n\u001b[0;32m   1950\u001b[0m \u001b[39mnext\u001b[39m(output)\n\u001b[1;32m-> 1952\u001b[0m \u001b[39mreturn\u001b[39;00m output \u001b[39mif\u001b[39;00m \u001b[39mself\u001b[39m\u001b[39m.\u001b[39mreturn_generator \u001b[39melse\u001b[39;00m \u001b[39mlist\u001b[39;49m(output)\n",
      "File \u001b[1;32mc:\\Users\\Pedro\\OneDrive - Instituto Maua de Tecnologia\\5e_encounter_predictor\\.venv\\lib\\site-packages\\joblib\\parallel.py:1595\u001b[0m, in \u001b[0;36mParallel._get_outputs\u001b[1;34m(self, iterator, pre_dispatch)\u001b[0m\n\u001b[0;32m   1592\u001b[0m     \u001b[39myield\u001b[39;00m\n\u001b[0;32m   1594\u001b[0m     \u001b[39mwith\u001b[39;00m \u001b[39mself\u001b[39m\u001b[39m.\u001b[39m_backend\u001b[39m.\u001b[39mretrieval_context():\n\u001b[1;32m-> 1595\u001b[0m         \u001b[39myield from\u001b[39;00m \u001b[39mself\u001b[39m\u001b[39m.\u001b[39m_retrieve()\n\u001b[0;32m   1597\u001b[0m \u001b[39mexcept\u001b[39;00m \u001b[39mGeneratorExit\u001b[39;00m:\n\u001b[0;32m   1598\u001b[0m     \u001b[39m# The generator has been garbage collected before being fully\u001b[39;00m\n\u001b[0;32m   1599\u001b[0m     \u001b[39m# consumed. This aborts the remaining tasks if possible and warn\u001b[39;00m\n\u001b[0;32m   1600\u001b[0m     \u001b[39m# the user if necessary.\u001b[39;00m\n\u001b[0;32m   1601\u001b[0m     \u001b[39mself\u001b[39m\u001b[39m.\u001b[39m_exception \u001b[39m=\u001b[39m \u001b[39mTrue\u001b[39;00m\n",
      "File \u001b[1;32mc:\\Users\\Pedro\\OneDrive - Instituto Maua de Tecnologia\\5e_encounter_predictor\\.venv\\lib\\site-packages\\joblib\\parallel.py:1707\u001b[0m, in \u001b[0;36mParallel._retrieve\u001b[1;34m(self)\u001b[0m\n\u001b[0;32m   1702\u001b[0m \u001b[39m# If the next job is not ready for retrieval yet, we just wait for\u001b[39;00m\n\u001b[0;32m   1703\u001b[0m \u001b[39m# async callbacks to progress.\u001b[39;00m\n\u001b[0;32m   1704\u001b[0m \u001b[39mif\u001b[39;00m ((\u001b[39mlen\u001b[39m(\u001b[39mself\u001b[39m\u001b[39m.\u001b[39m_jobs) \u001b[39m==\u001b[39m \u001b[39m0\u001b[39m) \u001b[39mor\u001b[39;00m\n\u001b[0;32m   1705\u001b[0m     (\u001b[39mself\u001b[39m\u001b[39m.\u001b[39m_jobs[\u001b[39m0\u001b[39m]\u001b[39m.\u001b[39mget_status(\n\u001b[0;32m   1706\u001b[0m         timeout\u001b[39m=\u001b[39m\u001b[39mself\u001b[39m\u001b[39m.\u001b[39mtimeout) \u001b[39m==\u001b[39m TASK_PENDING)):\n\u001b[1;32m-> 1707\u001b[0m     time\u001b[39m.\u001b[39;49msleep(\u001b[39m0.01\u001b[39;49m)\n\u001b[0;32m   1708\u001b[0m     \u001b[39mcontinue\u001b[39;00m\n\u001b[0;32m   1710\u001b[0m \u001b[39m# We need to be careful: the job list can be filling up as\u001b[39;00m\n\u001b[0;32m   1711\u001b[0m \u001b[39m# we empty it and Python list are not thread-safe by\u001b[39;00m\n\u001b[0;32m   1712\u001b[0m \u001b[39m# default hence the use of the lock\u001b[39;00m\n",
      "\u001b[1;31mKeyboardInterrupt\u001b[0m: "
     ]
    }
   ],
   "source": [
    "search_sapce = {\n",
    "    'n_estimators': [100, 150, 200],\n",
    "    'max_depth': [1, 3, 5],\n",
    "    'learning_rate': [0.01, 0.05, 0.1],\n",
    "    'gamma': [0, 0.25, 1.0],\n",
    "    'reg_lambda': [0, 1.0, 10.0],\n",
    "    'scale_pos_weight': [1, 3, 5],\n",
    "    'base_score': [0.2, 0.5, 0.8],\n",
    "}\n",
    "\n",
    "parameter_search(search_sapce)"
   ]
  },
  {
   "cell_type": "markdown",
   "metadata": {},
   "source": [
    "## Round 2"
   ]
  },
  {
   "cell_type": "code",
   "execution_count": null,
   "metadata": {},
   "outputs": [
    {
     "name": "stdout",
     "output_type": "stream",
     "text": [
      "Fitting 5 folds for each of 27 candidates, totalling 135 fits\n",
      "0.8063109346144334\n"
     ]
    },
    {
     "data": {
      "text/plain": [
       "{'base_score': 0.5,\n",
       " 'gamma': 0,\n",
       " 'learning_rate': 0.1,\n",
       " 'max_depth': 9,\n",
       " 'n_estimators': 400,\n",
       " 'reg_lambda': 1,\n",
       " 'scale_pos_weight': 1}"
      ]
     },
     "execution_count": 67,
     "metadata": {},
     "output_type": "execute_result"
    }
   ],
   "source": [
    "search_sapce = {\n",
    "    'n_estimators': [200, 300, 400],\n",
    "    'max_depth': [5,7,9],\n",
    "    'learning_rate': [0.1, 0.25, 0.5],\n",
    "    'gamma': [0],\n",
    "    'reg_lambda': [1],\n",
    "    'scale_pos_weight': [1],\n",
    "    'base_score': [0.5],\n",
    "}\n",
    "\n",
    "parameter_search(search_sapce)"
   ]
  },
  {
   "cell_type": "markdown",
   "metadata": {},
   "source": [
    "## Round 3"
   ]
  },
  {
   "cell_type": "code",
   "execution_count": null,
   "metadata": {},
   "outputs": [
    {
     "name": "stdout",
     "output_type": "stream",
     "text": [
      "Fitting 5 folds for each of 9 candidates, totalling 45 fits\n",
      "0.8096820822900176\n"
     ]
    },
    {
     "data": {
      "text/plain": [
       "{'base_score': 0.5,\n",
       " 'gamma': 0,\n",
       " 'learning_rate': 0.1,\n",
       " 'max_depth': 9,\n",
       " 'n_estimators': 800,\n",
       " 'reg_lambda': 1,\n",
       " 'scale_pos_weight': 1}"
      ]
     },
     "execution_count": 70,
     "metadata": {},
     "output_type": "execute_result"
    }
   ],
   "source": [
    "params = {\n",
    "    'n_estimators': [400, 650, 800],\n",
    "    'max_depth': [9,10,11],\n",
    "    'learning_rate': [0.1],\n",
    "    'gamma': [0],\n",
    "    'reg_lambda': [1],\n",
    "    'scale_pos_weight': [1],\n",
    "    'base_score': [0.5],\n",
    "}\n",
    "\n",
    "parameter_search(params)"
   ]
  },
  {
   "cell_type": "markdown",
   "metadata": {},
   "source": [
    "## Round 4"
   ]
  },
  {
   "cell_type": "code",
   "execution_count": null,
   "metadata": {},
   "outputs": [
    {
     "name": "stdout",
     "output_type": "stream",
     "text": [
      "Fitting 5 folds for each of 3 candidates, totalling 15 fits\n",
      "0.8100256530627407\n"
     ]
    },
    {
     "data": {
      "text/plain": [
       "{'base_score': 0.5,\n",
       " 'gamma': 0,\n",
       " 'learning_rate': 0.1,\n",
       " 'max_depth': 9,\n",
       " 'n_estimators': 1200,\n",
       " 'reg_lambda': 1,\n",
       " 'scale_pos_weight': 1}"
      ]
     },
     "execution_count": 71,
     "metadata": {},
     "output_type": "execute_result"
    }
   ],
   "source": [
    "params = {\n",
    "    'n_estimators': [800, 1000, 1200],\n",
    "    'max_depth': [9],\n",
    "    'learning_rate': [0.1],\n",
    "    'gamma': [0],\n",
    "    'reg_lambda': [1],\n",
    "    'scale_pos_weight': [1],\n",
    "    'base_score': [0.5],\n",
    "}\n",
    "\n",
    "parameter_search(params)"
   ]
  },
  {
   "cell_type": "code",
   "execution_count": 141,
   "metadata": {},
   "outputs": [],
   "source": [
    "FINAL_PARAMETERS = {'gamma': 0,\n",
    " 'learning_rate': 0.1,\n",
    " 'max_depth': 9,\n",
    " 'n_estimators': 1200,\n",
    " 'reg_lambda': 1,\n",
    " 'scale_pos_weight': 1\n",
    " }"
   ]
  },
  {
   "cell_type": "markdown",
   "metadata": {},
   "source": [
    "## Making the regression model"
   ]
  },
  {
   "cell_type": "code",
   "execution_count": 210,
   "metadata": {},
   "outputs": [
    {
     "name": "stdout",
     "output_type": "stream",
     "text": [
      "[0]\tvalidation_0-rmse:0.42509\tvalidation_1-rmse:0.42449\n",
      "[100]\tvalidation_0-rmse:0.12912\tvalidation_1-rmse:0.18551\n",
      "[181]\tvalidation_0-rmse:0.09995\tvalidation_1-rmse:0.17509\n"
     ]
    },
    {
     "data": {
      "text/html": [
       "<style>#sk-container-id-13 {color: black;}#sk-container-id-13 pre{padding: 0;}#sk-container-id-13 div.sk-toggleable {background-color: white;}#sk-container-id-13 label.sk-toggleable__label {cursor: pointer;display: block;width: 100%;margin-bottom: 0;padding: 0.3em;box-sizing: border-box;text-align: center;}#sk-container-id-13 label.sk-toggleable__label-arrow:before {content: \"▸\";float: left;margin-right: 0.25em;color: #696969;}#sk-container-id-13 label.sk-toggleable__label-arrow:hover:before {color: black;}#sk-container-id-13 div.sk-estimator:hover label.sk-toggleable__label-arrow:before {color: black;}#sk-container-id-13 div.sk-toggleable__content {max-height: 0;max-width: 0;overflow: hidden;text-align: left;background-color: #f0f8ff;}#sk-container-id-13 div.sk-toggleable__content pre {margin: 0.2em;color: black;border-radius: 0.25em;background-color: #f0f8ff;}#sk-container-id-13 input.sk-toggleable__control:checked~div.sk-toggleable__content {max-height: 200px;max-width: 100%;overflow: auto;}#sk-container-id-13 input.sk-toggleable__control:checked~label.sk-toggleable__label-arrow:before {content: \"▾\";}#sk-container-id-13 div.sk-estimator input.sk-toggleable__control:checked~label.sk-toggleable__label {background-color: #d4ebff;}#sk-container-id-13 div.sk-label input.sk-toggleable__control:checked~label.sk-toggleable__label {background-color: #d4ebff;}#sk-container-id-13 input.sk-hidden--visually {border: 0;clip: rect(1px 1px 1px 1px);clip: rect(1px, 1px, 1px, 1px);height: 1px;margin: -1px;overflow: hidden;padding: 0;position: absolute;width: 1px;}#sk-container-id-13 div.sk-estimator {font-family: monospace;background-color: #f0f8ff;border: 1px dotted black;border-radius: 0.25em;box-sizing: border-box;margin-bottom: 0.5em;}#sk-container-id-13 div.sk-estimator:hover {background-color: #d4ebff;}#sk-container-id-13 div.sk-parallel-item::after {content: \"\";width: 100%;border-bottom: 1px solid gray;flex-grow: 1;}#sk-container-id-13 div.sk-label:hover label.sk-toggleable__label {background-color: #d4ebff;}#sk-container-id-13 div.sk-serial::before {content: \"\";position: absolute;border-left: 1px solid gray;box-sizing: border-box;top: 0;bottom: 0;left: 50%;z-index: 0;}#sk-container-id-13 div.sk-serial {display: flex;flex-direction: column;align-items: center;background-color: white;padding-right: 0.2em;padding-left: 0.2em;position: relative;}#sk-container-id-13 div.sk-item {position: relative;z-index: 1;}#sk-container-id-13 div.sk-parallel {display: flex;align-items: stretch;justify-content: center;background-color: white;position: relative;}#sk-container-id-13 div.sk-item::before, #sk-container-id-13 div.sk-parallel-item::before {content: \"\";position: absolute;border-left: 1px solid gray;box-sizing: border-box;top: 0;bottom: 0;left: 50%;z-index: -1;}#sk-container-id-13 div.sk-parallel-item {display: flex;flex-direction: column;z-index: 1;position: relative;background-color: white;}#sk-container-id-13 div.sk-parallel-item:first-child::after {align-self: flex-end;width: 50%;}#sk-container-id-13 div.sk-parallel-item:last-child::after {align-self: flex-start;width: 50%;}#sk-container-id-13 div.sk-parallel-item:only-child::after {width: 0;}#sk-container-id-13 div.sk-dashed-wrapped {border: 1px dashed gray;margin: 0 0.4em 0.5em 0.4em;box-sizing: border-box;padding-bottom: 0.4em;background-color: white;}#sk-container-id-13 div.sk-label label {font-family: monospace;font-weight: bold;display: inline-block;line-height: 1.2em;}#sk-container-id-13 div.sk-label-container {text-align: center;}#sk-container-id-13 div.sk-container {/* jupyter's `normalize.less` sets `[hidden] { display: none; }` but bootstrap.min.css set `[hidden] { display: none !important; }` so we also need the `!important` here to be able to override the default hidden behavior on the sphinx rendered scikit-learn.org. See: https://github.com/scikit-learn/scikit-learn/issues/21755 */display: inline-block !important;position: relative;}#sk-container-id-13 div.sk-text-repr-fallback {display: none;}</style><div id=\"sk-container-id-13\" class=\"sk-top-container\"><div class=\"sk-text-repr-fallback\"><pre>XGBRegressor(base_score=0.7000000000000001, booster=&#x27;gbtree&#x27;, callbacks=None,\n",
       "             colsample_bylevel=None, colsample_bynode=None,\n",
       "             colsample_bytree=None, device=None, early_stopping_rounds=10,\n",
       "             enable_categorical=False, eval_metric=&#x27;rmse&#x27;, feature_types=None,\n",
       "             gamma=0.010640880934863295, grow_policy=None, importance_type=None,\n",
       "             interaction_constraints=None, learning_rate=0.125, max_bin=None,\n",
       "             max_cat_threshold=None, max_cat_to_onehot=None,\n",
       "             max_delta_step=None, max_depth=9, max_leaves=None,\n",
       "             min_child_weight=None, missing=nan, monotone_constraints=None,\n",
       "             multi_strategy=None, n_estimators=487, n_jobs=None,\n",
       "             num_parallel_tree=None, random_state=None, ...)</pre><b>In a Jupyter environment, please rerun this cell to show the HTML representation or trust the notebook. <br />On GitHub, the HTML representation is unable to render, please try loading this page with nbviewer.org.</b></div><div class=\"sk-container\" hidden><div class=\"sk-item\"><div class=\"sk-estimator sk-toggleable\"><input class=\"sk-toggleable__control sk-hidden--visually\" id=\"sk-estimator-id-13\" type=\"checkbox\" checked><label for=\"sk-estimator-id-13\" class=\"sk-toggleable__label sk-toggleable__label-arrow\">XGBRegressor</label><div class=\"sk-toggleable__content\"><pre>XGBRegressor(base_score=0.7000000000000001, booster=&#x27;gbtree&#x27;, callbacks=None,\n",
       "             colsample_bylevel=None, colsample_bynode=None,\n",
       "             colsample_bytree=None, device=None, early_stopping_rounds=10,\n",
       "             enable_categorical=False, eval_metric=&#x27;rmse&#x27;, feature_types=None,\n",
       "             gamma=0.010640880934863295, grow_policy=None, importance_type=None,\n",
       "             interaction_constraints=None, learning_rate=0.125, max_bin=None,\n",
       "             max_cat_threshold=None, max_cat_to_onehot=None,\n",
       "             max_delta_step=None, max_depth=9, max_leaves=None,\n",
       "             min_child_weight=None, missing=nan, monotone_constraints=None,\n",
       "             multi_strategy=None, n_estimators=487, n_jobs=None,\n",
       "             num_parallel_tree=None, random_state=None, ...)</pre></div></div></div></div></div>"
      ],
      "text/plain": [
       "XGBRegressor(base_score=0.7000000000000001, booster='gbtree', callbacks=None,\n",
       "             colsample_bylevel=None, colsample_bynode=None,\n",
       "             colsample_bytree=None, device=None, early_stopping_rounds=10,\n",
       "             enable_categorical=False, eval_metric='rmse', feature_types=None,\n",
       "             gamma=0.010640880934863295, grow_policy=None, importance_type=None,\n",
       "             interaction_constraints=None, learning_rate=0.125, max_bin=None,\n",
       "             max_cat_threshold=None, max_cat_to_onehot=None,\n",
       "             max_delta_step=None, max_depth=9, max_leaves=None,\n",
       "             min_child_weight=None, missing=nan, monotone_constraints=None,\n",
       "             multi_strategy=None, n_estimators=487, n_jobs=None,\n",
       "             num_parallel_tree=None, random_state=None, ...)"
      ]
     },
     "execution_count": 210,
     "metadata": {},
     "output_type": "execute_result"
    }
   ],
   "source": [
    "model_GCV = xgb.XGBRegressor(**FINAL_PARAMETERS, booster='gbtree',early_stopping_rounds=10,eval_metric='rmse')\n",
    "model_GCV.fit(  X_train,\n",
    "            Y_train,\n",
    "            eval_set=[(X_train, Y_train),(X_test, Y_test)],\n",
    "            verbose=100\n",
    "            \n",
    "          )"
   ]
  },
  {
   "cell_type": "markdown",
   "metadata": {},
   "source": [
    "## R² score of the model"
   ]
  },
  {
   "cell_type": "code",
   "execution_count": 194,
   "metadata": {},
   "outputs": [
    {
     "data": {
      "text/plain": [
       "0.8065665644110817"
      ]
     },
     "execution_count": 194,
     "metadata": {},
     "output_type": "execute_result"
    }
   ],
   "source": [
    "model_GCV.score(X_test, Y_test)"
   ]
  },
  {
   "cell_type": "markdown",
   "metadata": {},
   "source": [
    "## Making predictions"
   ]
  },
  {
   "cell_type": "code",
   "execution_count": 227,
   "metadata": {},
   "outputs": [
    {
     "name": "stdout",
     "output_type": "stream",
     "text": [
      "Input: \n"
     ]
    },
    {
     "data": {
      "text/html": [
       "<div>\n",
       "<style scoped>\n",
       "    .dataframe tbody tr th:only-of-type {\n",
       "        vertical-align: middle;\n",
       "    }\n",
       "\n",
       "    .dataframe tbody tr th {\n",
       "        vertical-align: top;\n",
       "    }\n",
       "\n",
       "    .dataframe thead th {\n",
       "        text-align: right;\n",
       "    }\n",
       "</style>\n",
       "<table border=\"1\" class=\"dataframe\">\n",
       "  <thead>\n",
       "    <tr style=\"text-align: right;\">\n",
       "      <th></th>\n",
       "      <th>p1_hp</th>\n",
       "      <th>p1_ac</th>\n",
       "      <th>p1_avg_save</th>\n",
       "      <th>p2_hp</th>\n",
       "      <th>p2_ac</th>\n",
       "      <th>p2_avg_save</th>\n",
       "      <th>p3_hp</th>\n",
       "      <th>p3_ac</th>\n",
       "      <th>p3_avg_save</th>\n",
       "      <th>p4_hp</th>\n",
       "      <th>...</th>\n",
       "      <th>monster_type_dragon</th>\n",
       "      <th>monster_type_elemental</th>\n",
       "      <th>monster_type_fey</th>\n",
       "      <th>monster_type_fiend</th>\n",
       "      <th>monster_type_giant</th>\n",
       "      <th>monster_type_humanoid</th>\n",
       "      <th>monster_type_monstrosity</th>\n",
       "      <th>monster_type_ooze</th>\n",
       "      <th>monster_type_plant</th>\n",
       "      <th>monster_type_undead</th>\n",
       "    </tr>\n",
       "  </thead>\n",
       "  <tbody>\n",
       "    <tr>\n",
       "      <th>7943</th>\n",
       "      <td>27</td>\n",
       "      <td>12</td>\n",
       "      <td>3</td>\n",
       "      <td>24</td>\n",
       "      <td>15</td>\n",
       "      <td>3</td>\n",
       "      <td>24</td>\n",
       "      <td>13</td>\n",
       "      <td>3</td>\n",
       "      <td>24</td>\n",
       "      <td>...</td>\n",
       "      <td>True</td>\n",
       "      <td>False</td>\n",
       "      <td>False</td>\n",
       "      <td>False</td>\n",
       "      <td>False</td>\n",
       "      <td>False</td>\n",
       "      <td>False</td>\n",
       "      <td>False</td>\n",
       "      <td>False</td>\n",
       "      <td>False</td>\n",
       "    </tr>\n",
       "  </tbody>\n",
       "</table>\n",
       "<p>1 rows × 83 columns</p>\n",
       "</div>"
      ],
      "text/plain": [
       "     p1_hp p1_ac p1_avg_save p2_hp p2_ac p2_avg_save p3_hp p3_ac p3_avg_save  \\\n",
       "7943    27    12           3    24    15           3    24    13           3   \n",
       "\n",
       "     p4_hp  ... monster_type_dragon monster_type_elemental monster_type_fey  \\\n",
       "7943    24  ...                True                  False            False   \n",
       "\n",
       "     monster_type_fiend monster_type_giant monster_type_humanoid  \\\n",
       "7943              False              False                 False   \n",
       "\n",
       "     monster_type_monstrosity monster_type_ooze monster_type_plant  \\\n",
       "7943                    False             False              False   \n",
       "\n",
       "     monster_type_undead  \n",
       "7943               False  \n",
       "\n",
       "[1 rows x 83 columns]"
      ]
     },
     "metadata": {},
     "output_type": "display_data"
    },
    {
     "name": "stdout",
     "output_type": "stream",
     "text": [
      "The combat was btween 4 players level 3 against 2 monster(s) CR 2.0\n",
      "Expected:  0.3141534391534392\n",
      "Predicted:  0.49753624\n"
     ]
    }
   ],
   "source": [
    "predict(model_GCV)"
   ]
  },
  {
   "cell_type": "markdown",
   "metadata": {},
   "source": [
    "## Seeing the model feature importance\n"
   ]
  },
  {
   "cell_type": "code",
   "execution_count": 243,
   "metadata": {},
   "outputs": [
    {
     "data": {
      "text/plain": [
       "<Axes: title={'center': 'Feature importance'}, xlabel='F score', ylabel='Features'>"
      ]
     },
     "execution_count": 243,
     "metadata": {},
     "output_type": "execute_result"
    },
    {
     "data": {
      "image/png": "[encoded data removed]",
      "text/plain": [
       "<Figure size 640x480 with 1 Axes>"
      ]
     },
     "metadata": {},
     "output_type": "display_data"
    }
   ],
   "source": [
    "plot_importance(model_GCV, max_num_features=20, importance_type='weight')"
   ]
  },
  {
   "cell_type": "markdown",
   "metadata": {},
   "source": [
    "# Hyperparameter tuning using Optuna"
   ]
  },
  {
   "cell_type": "code",
   "execution_count": 168,
   "metadata": {},
   "outputs": [],
   "source": [
    "import optuna"
   ]
  },
  {
   "cell_type": "code",
   "execution_count": 169,
   "metadata": {},
   "outputs": [],
   "source": [
    "from sklearn.metrics import mean_squared_error\n",
    "def objective(trial):\n",
    "    param = {\n",
    "        'max_depth': trial.suggest_int('max_depth', 1, 10),\n",
    "        'learning_rate': trial.suggest_float('learning_rate', 0.01, 0.15, step=0.005),\n",
    "        'n_estimators': trial.suggest_int('n_estimators', 50, 1000),\n",
    "        'gamma': trial.suggest_float('gamma', 0.01, 1.0),\n",
    "        'reg_lambda': trial.suggest_float('reg_lambda', 0.01, 1.0),\n",
    "        'scale_pos_weight': trial.suggest_float('scale_pos_weight', 1, 10),\n",
    "        'base_score': trial.suggest_float('base_score', 0.1, 0.9, step=0.1),\n",
    "    }\n",
    "    model = xgb.XGBRegressor(**param)\n",
    "    model.fit(X_train, Y_train)\n",
    "    Y_pred = model.predict(X_test)\n",
    "    return mean_squared_error(Y_test, Y_pred)"
   ]
  },
  {
   "cell_type": "code",
   "execution_count": 170,
   "metadata": {},
   "outputs": [
    {
     "name": "stderr",
     "output_type": "stream",
     "text": [
      "[I 2023-11-24 16:29:37,781] A new study created in memory with name: regression\n",
      "[I 2023-11-24 16:29:39,275] Trial 0 finished with value: 0.09400201345969166 and parameters: {'max_depth': 1, 'learning_rate': 0.045000000000000005, 'n_estimators': 723, 'gamma': 0.18116928107643374, 'reg_lambda': 0.2842970814022444, 'scale_pos_weight': 4.708568293561297, 'base_score': 0.2}. Best is trial 0 with value: 0.09400201345969166.\n",
      "[I 2023-11-24 16:29:40,737] Trial 1 finished with value: 0.06517752234364872 and parameters: {'max_depth': 2, 'learning_rate': 0.09, 'n_estimators': 667, 'gamma': 0.17743439856768967, 'reg_lambda': 0.0329993499429122, 'scale_pos_weight': 3.2804723359398724, 'base_score': 0.6}. Best is trial 1 with value: 0.06517752234364872.\n",
      "[I 2023-11-24 16:29:41,697] Trial 2 finished with value: 0.05984708448879176 and parameters: {'max_depth': 5, 'learning_rate': 0.09, 'n_estimators': 271, 'gamma': 0.9501678642968386, 'reg_lambda': 0.3058126531221151, 'scale_pos_weight': 8.40482417592441, 'base_score': 0.7000000000000001}. Best is trial 2 with value: 0.05984708448879176.\n",
      "[I 2023-11-24 16:29:42,750] Trial 3 finished with value: 0.04709528513663718 and parameters: {'max_depth': 6, 'learning_rate': 0.14, 'n_estimators': 409, 'gamma': 0.25573006400748793, 'reg_lambda': 0.022017717619347434, 'scale_pos_weight': 7.904033294647894, 'base_score': 0.5}. Best is trial 3 with value: 0.04709528513663718.\n",
      "[I 2023-11-24 16:29:44,350] Trial 4 finished with value: 0.06830761149845721 and parameters: {'max_depth': 2, 'learning_rate': 0.075, 'n_estimators': 849, 'gamma': 0.9862180677107223, 'reg_lambda': 0.15590444351056287, 'scale_pos_weight': 3.3317658242819146, 'base_score': 0.1}. Best is trial 3 with value: 0.04709528513663718.\n",
      "[I 2023-11-24 16:29:45,643] Trial 5 finished with value: 0.06967255635053822 and parameters: {'max_depth': 4, 'learning_rate': 0.025, 'n_estimators': 371, 'gamma': 0.46897157835937026, 'reg_lambda': 0.9026067758821311, 'scale_pos_weight': 6.844680914666045, 'base_score': 0.2}. Best is trial 3 with value: 0.04709528513663718.\n",
      "[I 2023-11-24 16:29:46,567] Trial 6 finished with value: 0.05266676050106642 and parameters: {'max_depth': 6, 'learning_rate': 0.075, 'n_estimators': 365, 'gamma': 0.5799669992332773, 'reg_lambda': 0.7107642690812244, 'scale_pos_weight': 8.01516427491488, 'base_score': 0.4}. Best is trial 3 with value: 0.04709528513663718.\n",
      "[I 2023-11-24 16:29:48,164] Trial 7 finished with value: 0.05301839618261165 and parameters: {'max_depth': 5, 'learning_rate': 0.08, 'n_estimators': 950, 'gamma': 0.46591623195285065, 'reg_lambda': 0.35341026239034223, 'scale_pos_weight': 4.532102468483947, 'base_score': 0.8}. Best is trial 3 with value: 0.04709528513663718.\n",
      "[I 2023-11-24 16:29:49,185] Trial 8 finished with value: 0.08370192136309386 and parameters: {'max_depth': 3, 'learning_rate': 0.025, 'n_estimators': 425, 'gamma': 0.3186474436532382, 'reg_lambda': 0.39408219069100203, 'scale_pos_weight': 9.964486224587963, 'base_score': 0.2}. Best is trial 3 with value: 0.04709528513663718.\n",
      "[I 2023-11-24 16:29:49,609] Trial 9 finished with value: 0.09704942213104219 and parameters: {'max_depth': 4, 'learning_rate': 0.045000000000000005, 'n_estimators': 52, 'gamma': 0.9632098318857767, 'reg_lambda': 0.8530290562006013, 'scale_pos_weight': 7.172526029751788, 'base_score': 0.6}. Best is trial 3 with value: 0.04709528513663718.\n",
      "[I 2023-11-24 16:29:50,524] Trial 10 finished with value: 0.03222547554813084 and parameters: {'max_depth': 9, 'learning_rate': 0.14500000000000002, 'n_estimators': 134, 'gamma': 0.017678004359256094, 'reg_lambda': 0.013331051672732692, 'scale_pos_weight': 1.3321187420690954, 'base_score': 0.9}. Best is trial 10 with value: 0.03222547554813084.\n",
      "[I 2023-11-24 16:29:51,178] Trial 11 finished with value: 0.03544833828773634 and parameters: {'max_depth': 9, 'learning_rate': 0.15, 'n_estimators': 79, 'gamma': 0.11001252806452831, 'reg_lambda': 0.01833910022750434, 'scale_pos_weight': 1.2723994142369672, 'base_score': 0.9}. Best is trial 10 with value: 0.03222547554813084.\n",
      "[I 2023-11-24 16:29:51,923] Trial 12 finished with value: 0.03328998366198069 and parameters: {'max_depth': 10, 'learning_rate': 0.15, 'n_estimators': 69, 'gamma': 0.03966545860684885, 'reg_lambda': 0.16217204210436942, 'scale_pos_weight': 1.3309440895479367, 'base_score': 0.9}. Best is trial 10 with value: 0.03222547554813084.\n",
      "[I 2023-11-24 16:29:53,110] Trial 13 finished with value: 0.030963032951062043 and parameters: {'max_depth': 10, 'learning_rate': 0.13, 'n_estimators': 194, 'gamma': 0.010699027656952098, 'reg_lambda': 0.18570779361380277, 'scale_pos_weight': 1.443543392697633, 'base_score': 0.9}. Best is trial 13 with value: 0.030963032951062043.\n",
      "[I 2023-11-24 16:29:54,171] Trial 14 finished with value: 0.03316559037905358 and parameters: {'max_depth': 8, 'learning_rate': 0.12, 'n_estimators': 220, 'gamma': 0.024985487317511813, 'reg_lambda': 0.556721652532921, 'scale_pos_weight': 2.567741783375869, 'base_score': 0.8}. Best is trial 13 with value: 0.030963032951062043.\n",
      "[I 2023-11-24 16:29:55,143] Trial 15 finished with value: 0.03228287580790954 and parameters: {'max_depth': 8, 'learning_rate': 0.12, 'n_estimators': 210, 'gamma': 0.024562782614030325, 'reg_lambda': 0.1591252453087542, 'scale_pos_weight': 1.156887235677384, 'base_score': 0.9}. Best is trial 13 with value: 0.030963032951062043.\n",
      "[I 2023-11-24 16:29:56,629] Trial 16 finished with value: 0.0315842833300206 and parameters: {'max_depth': 10, 'learning_rate': 0.12, 'n_estimators': 501, 'gamma': 0.011289342437072641, 'reg_lambda': 0.5033033842069441, 'scale_pos_weight': 2.393841118557993, 'base_score': 0.7000000000000001}. Best is trial 13 with value: 0.030963032951062043.\n",
      "[I 2023-11-24 16:29:57,790] Trial 17 finished with value: 0.037676283253401666 and parameters: {'max_depth': 10, 'learning_rate': 0.11499999999999999, 'n_estimators': 556, 'gamma': 0.3149428063989999, 'reg_lambda': 0.48530752451883163, 'scale_pos_weight': 2.4641911719724257, 'base_score': 0.7000000000000001}. Best is trial 13 with value: 0.030963032951062043.\n",
      "[I 2023-11-24 16:29:58,993] Trial 18 finished with value: 0.04166559982582082 and parameters: {'max_depth': 7, 'learning_rate': 0.105, 'n_estimators': 563, 'gamma': 0.14802358484842648, 'reg_lambda': 0.5612036180642304, 'scale_pos_weight': 5.110800572345154, 'base_score': 0.7000000000000001}. Best is trial 13 with value: 0.030963032951062043.\n",
      "[I 2023-11-24 16:30:00,391] Trial 19 finished with value: 0.03691591920638402 and parameters: {'max_depth': 10, 'learning_rate': 0.13, 'n_estimators': 733, 'gamma': 0.23208048478231139, 'reg_lambda': 0.7160250444366946, 'scale_pos_weight': 3.791058086610964, 'base_score': 0.5}. Best is trial 13 with value: 0.030963032951062043.\n",
      "[I 2023-11-24 16:30:01,535] Trial 20 finished with value: 0.036055515154930155 and parameters: {'max_depth': 8, 'learning_rate': 0.105, 'n_estimators': 482, 'gamma': 0.0922831518511939, 'reg_lambda': 0.4595251329048656, 'scale_pos_weight': 2.2422237208114915, 'base_score': 0.8}. Best is trial 13 with value: 0.030963032951062043.\n",
      "[I 2023-11-24 16:30:02,451] Trial 21 finished with value: 0.033737060670219955 and parameters: {'max_depth': 9, 'learning_rate': 0.135, 'n_estimators': 164, 'gamma': 0.03979598134617821, 'reg_lambda': 0.21937043312260637, 'scale_pos_weight': 2.0063936151972706, 'base_score': 0.9}. Best is trial 13 with value: 0.030963032951062043.\n",
      "[I 2023-11-24 16:30:03,582] Trial 22 finished with value: 0.03112107945039984 and parameters: {'max_depth': 9, 'learning_rate': 0.135, 'n_estimators': 292, 'gamma': 0.013074922502110306, 'reg_lambda': 0.10208508764666951, 'scale_pos_weight': 1.0447908410320796, 'base_score': 0.8}. Best is trial 13 with value: 0.030963032951062043.\n",
      "[I 2023-11-24 16:30:04,538] Trial 23 finished with value: 0.03563913193880723 and parameters: {'max_depth': 10, 'learning_rate': 0.13, 'n_estimators': 297, 'gamma': 0.13143832861200547, 'reg_lambda': 0.3846000868042006, 'scale_pos_weight': 1.9131313295362733, 'base_score': 0.8}. Best is trial 13 with value: 0.030963032951062043.\n",
      "[I 2023-11-24 16:30:05,520] Trial 24 finished with value: 0.039296647391561294 and parameters: {'max_depth': 7, 'learning_rate': 0.105, 'n_estimators': 315, 'gamma': 0.11213345537657315, 'reg_lambda': 0.24498752719104844, 'scale_pos_weight': 2.8185607661319123, 'base_score': 0.6}. Best is trial 13 with value: 0.030963032951062043.\n",
      "[I 2023-11-24 16:30:06,982] Trial 25 finished with value: 0.030656939050725647 and parameters: {'max_depth': 9, 'learning_rate': 0.125, 'n_estimators': 487, 'gamma': 0.010640880934863295, 'reg_lambda': 0.11147080571581364, 'scale_pos_weight': 1.0065977727703983, 'base_score': 0.7000000000000001}. Best is trial 25 with value: 0.030656939050725647.\n",
      "[I 2023-11-24 16:30:08,073] Trial 26 finished with value: 0.03682047178607323 and parameters: {'max_depth': 9, 'learning_rate': 0.060000000000000005, 'n_estimators': 245, 'gamma': 0.2199655819069422, 'reg_lambda': 0.12258037942630268, 'scale_pos_weight': 1.0046574850848238, 'base_score': 0.8}. Best is trial 25 with value: 0.030656939050725647.\n",
      "[I 2023-11-24 16:30:09,075] Trial 27 finished with value: 0.0374185551060329 and parameters: {'max_depth': 7, 'learning_rate': 0.135, 'n_estimators': 452, 'gamma': 0.10520630367666584, 'reg_lambda': 0.11954407340384926, 'scale_pos_weight': 1.8973858485991693, 'base_score': 0.5}. Best is trial 25 with value: 0.030656939050725647.\n",
      "[I 2023-11-24 16:30:10,342] Trial 28 finished with value: 0.0414187991170037 and parameters: {'max_depth': 8, 'learning_rate': 0.095, 'n_estimators': 651, 'gamma': 0.2843323360009845, 'reg_lambda': 0.09167007175523414, 'scale_pos_weight': 3.9183513639641756, 'base_score': 0.7000000000000001}. Best is trial 25 with value: 0.030656939050725647.\n",
      "[I 2023-11-24 16:30:11,321] Trial 29 finished with value: 0.03636650881026312 and parameters: {'max_depth': 9, 'learning_rate': 0.11, 'n_estimators': 350, 'gamma': 0.1773050924763829, 'reg_lambda': 0.22147470155381394, 'scale_pos_weight': 1.7473113321246299, 'base_score': 0.4}. Best is trial 25 with value: 0.030656939050725647.\n",
      "[I 2023-11-24 16:30:12,132] Trial 30 finished with value: 0.03738049113329606 and parameters: {'max_depth': 7, 'learning_rate': 0.125, 'n_estimators': 157, 'gamma': 0.073927078642209, 'reg_lambda': 0.2821300939766288, 'scale_pos_weight': 2.898655740272309, 'base_score': 0.8}. Best is trial 25 with value: 0.030656939050725647.\n",
      "[I 2023-11-24 16:30:13,422] Trial 31 finished with value: 0.03373199180986978 and parameters: {'max_depth': 10, 'learning_rate': 0.14, 'n_estimators': 524, 'gamma': 0.0773326025518033, 'reg_lambda': 0.22228618585947602, 'scale_pos_weight': 1.0043698446294904, 'base_score': 0.7000000000000001}. Best is trial 25 with value: 0.030656939050725647.\n",
      "[I 2023-11-24 16:30:15,048] Trial 32 finished with value: 0.03110778694891676 and parameters: {'max_depth': 9, 'learning_rate': 0.125, 'n_estimators': 753, 'gamma': 0.014763969551892575, 'reg_lambda': 0.10128152940859017, 'scale_pos_weight': 1.6874036884178523, 'base_score': 0.6}. Best is trial 25 with value: 0.030656939050725647.\n",
      "[I 2023-11-24 16:30:16,331] Trial 33 finished with value: 0.03818387529346014 and parameters: {'max_depth': 8, 'learning_rate': 0.095, 'n_estimators': 631, 'gamma': 0.18558579298023994, 'reg_lambda': 0.07891104261645047, 'scale_pos_weight': 1.73675573799434, 'base_score': 0.6}. Best is trial 25 with value: 0.030656939050725647.\n",
      "[I 2023-11-24 16:30:17,732] Trial 34 finished with value: 0.03743129404651048 and parameters: {'max_depth': 9, 'learning_rate': 0.13, 'n_estimators': 740, 'gamma': 0.1621315835281013, 'reg_lambda': 0.08356450746797203, 'scale_pos_weight': 3.038853505691563, 'base_score': 0.6}. Best is trial 25 with value: 0.030656939050725647.\n",
      "[I 2023-11-24 16:30:19,165] Trial 35 finished with value: 0.034492398491682646 and parameters: {'max_depth': 9, 'learning_rate': 0.14500000000000002, 'n_estimators': 801, 'gamma': 0.06867833266229899, 'reg_lambda': 0.06123962422631798, 'scale_pos_weight': 1.6510466524634055, 'base_score': 0.4}. Best is trial 25 with value: 0.030656939050725647.\n",
      "[I 2023-11-24 16:30:20,962] Trial 36 finished with value: 0.031580875602041474 and parameters: {'max_depth': 6, 'learning_rate': 0.14, 'n_estimators': 940, 'gamma': 0.010576964793485244, 'reg_lambda': 0.1705498484620553, 'scale_pos_weight': 2.3648313804609953, 'base_score': 0.6}. Best is trial 25 with value: 0.030656939050725647.\n",
      "[I 2023-11-24 16:30:22,533] Trial 37 finished with value: 0.03883720070817772 and parameters: {'max_depth': 8, 'learning_rate': 0.11499999999999999, 'n_estimators': 873, 'gamma': 0.13332552916657844, 'reg_lambda': 0.048888166826824855, 'scale_pos_weight': 3.4445210291903194, 'base_score': 0.7000000000000001}. Best is trial 25 with value: 0.030656939050725647.\n",
      "[I 2023-11-24 16:30:23,826] Trial 38 finished with value: 0.03593744348231423 and parameters: {'max_depth': 10, 'learning_rate': 0.08499999999999999, 'n_estimators': 576, 'gamma': 0.1877180991575591, 'reg_lambda': 0.2921257531789745, 'scale_pos_weight': 1.519468240404115, 'base_score': 0.8}. Best is trial 25 with value: 0.030656939050725647.\n",
      "[I 2023-11-24 16:30:24,880] Trial 39 finished with value: 0.06701008581169328 and parameters: {'max_depth': 2, 'learning_rate': 0.095, 'n_estimators': 413, 'gamma': 0.07516339798852169, 'reg_lambda': 0.18482825824656335, 'scale_pos_weight': 2.0991090006068465, 'base_score': 0.30000000000000004}. Best is trial 25 with value: 0.030656939050725647.\n",
      "[I 2023-11-24 16:30:26,669] Trial 40 finished with value: 0.04892197306591431 and parameters: {'max_depth': 9, 'learning_rate': 0.01, 'n_estimators': 280, 'gamma': 0.24288109992418858, 'reg_lambda': 0.12124005923275402, 'scale_pos_weight': 1.5412307251002773, 'base_score': 0.5}. Best is trial 25 with value: 0.030656939050725647.\n",
      "[I 2023-11-24 16:30:28,362] Trial 41 finished with value: 0.032505510538301426 and parameters: {'max_depth': 6, 'learning_rate': 0.14, 'n_estimators': 947, 'gamma': 0.014310807805146063, 'reg_lambda': 0.16207248105818484, 'scale_pos_weight': 2.3012026982618368, 'base_score': 0.6}. Best is trial 25 with value: 0.030656939050725647.\n",
      "[I 2023-11-24 16:30:29,916] Trial 42 finished with value: 0.04339048725966231 and parameters: {'max_depth': 4, 'learning_rate': 0.125, 'n_estimators': 896, 'gamma': 0.06499096895544097, 'reg_lambda': 0.012313796343956643, 'scale_pos_weight': 2.444649317619773, 'base_score': 0.7000000000000001}. Best is trial 25 with value: 0.030656939050725647.\n",
      "[I 2023-11-24 16:30:31,449] Trial 43 finished with value: 0.07355529153035018 and parameters: {'max_depth': 1, 'learning_rate': 0.135, 'n_estimators': 995, 'gamma': 0.11678418066490133, 'reg_lambda': 0.11874472205506449, 'scale_pos_weight': 1.0793898867877723, 'base_score': 0.6}. Best is trial 25 with value: 0.030656939050725647.\n",
      "[I 2023-11-24 16:30:33,109] Trial 44 finished with value: 0.03122822287592276 and parameters: {'max_depth': 5, 'learning_rate': 0.14500000000000002, 'n_estimators': 837, 'gamma': 0.011587362245822238, 'reg_lambda': 0.18941797079548778, 'scale_pos_weight': 1.5636561474231319, 'base_score': 0.9}. Best is trial 25 with value: 0.030656939050725647.\n",
      "[I 2023-11-24 16:30:34,529] Trial 45 finished with value: 0.03828147469887365 and parameters: {'max_depth': 5, 'learning_rate': 0.15, 'n_estimators': 775, 'gamma': 0.05456877272666014, 'reg_lambda': 0.25396008537829695, 'scale_pos_weight': 1.3347814275663308, 'base_score': 0.9}. Best is trial 25 with value: 0.030656939050725647.\n",
      "[I 2023-11-24 16:30:36,185] Trial 46 finished with value: 0.057173617739451836 and parameters: {'max_depth': 3, 'learning_rate': 0.060000000000000005, 'n_estimators': 824, 'gamma': 0.3720369230408774, 'reg_lambda': 0.3240662151847056, 'scale_pos_weight': 1.6768061771201719, 'base_score': 0.9}. Best is trial 25 with value: 0.030656939050725647.\n",
      "[I 2023-11-24 16:30:37,415] Trial 47 finished with value: 0.04723136260532366 and parameters: {'max_depth': 4, 'learning_rate': 0.14500000000000002, 'n_estimators': 698, 'gamma': 0.14473329213918504, 'reg_lambda': 0.194924280079762, 'scale_pos_weight': 2.8109124621750823, 'base_score': 0.8}. Best is trial 25 with value: 0.030656939050725647.\n",
      "[I 2023-11-24 16:30:38,068] Trial 48 finished with value: 0.04846351552036823 and parameters: {'max_depth': 5, 'learning_rate': 0.125, 'n_estimators': 124, 'gamma': 0.05484606322887219, 'reg_lambda': 0.044546054906346874, 'scale_pos_weight': 1.358876073717941, 'base_score': 0.9}. Best is trial 25 with value: 0.030656939050725647.\n",
      "[I 2023-11-24 16:30:39,404] Trial 49 finished with value: 0.03868325205848328 and parameters: {'max_depth': 7, 'learning_rate': 0.11499999999999999, 'n_estimators': 625, 'gamma': 0.1045522574094657, 'reg_lambda': 0.08795369568561054, 'scale_pos_weight': 3.2973680062858914, 'base_score': 0.1}. Best is trial 25 with value: 0.030656939050725647.\n",
      "[I 2023-11-24 16:30:40,335] Trial 50 finished with value: 0.04648815886026004 and parameters: {'max_depth': 6, 'learning_rate': 0.15, 'n_estimators': 347, 'gamma': 0.20495120301856443, 'reg_lambda': 0.261621567605165, 'scale_pos_weight': 5.960124029204779, 'base_score': 0.8}. Best is trial 25 with value: 0.030656939050725647.\n",
      "[I 2023-11-24 16:30:42,151] Trial 51 finished with value: 0.040866796804376875 and parameters: {'max_depth': 3, 'learning_rate': 0.14, 'n_estimators': 903, 'gamma': 0.013263458564860381, 'reg_lambda': 0.18539272584501554, 'scale_pos_weight': 2.080066352221837, 'base_score': 0.6}. Best is trial 25 with value: 0.030656939050725647.\n",
      "[I 2023-11-24 16:30:43,870] Trial 52 finished with value: 0.031221886299252242 and parameters: {'max_depth': 6, 'learning_rate': 0.135, 'n_estimators': 935, 'gamma': 0.012974639951995437, 'reg_lambda': 0.14520854427213484, 'scale_pos_weight': 1.4137825476063783, 'base_score': 0.7000000000000001}. Best is trial 25 with value: 0.030656939050725647.\n",
      "[I 2023-11-24 16:30:45,475] Trial 53 finished with value: 0.03389453204078486 and parameters: {'max_depth': 9, 'learning_rate': 0.13, 'n_estimators': 833, 'gamma': 0.04399478634596033, 'reg_lambda': 0.1553851570977452, 'scale_pos_weight': 1.3946573896676049, 'base_score': 0.7000000000000001}. Best is trial 25 with value: 0.030656939050725647.\n",
      "[I 2023-11-24 16:30:46,990] Trial 54 finished with value: 0.034079288406718575 and parameters: {'max_depth': 10, 'learning_rate': 0.12, 'n_estimators': 770, 'gamma': 0.09019017487521087, 'reg_lambda': 0.058456805776569455, 'scale_pos_weight': 1.0278104536889314, 'base_score': 0.9}. Best is trial 25 with value: 0.030656939050725647.\n",
      "[I 2023-11-24 16:30:48,491] Trial 55 finished with value: 0.04298104943698578 and parameters: {'max_depth': 5, 'learning_rate': 0.135, 'n_estimators': 978, 'gamma': 0.14666631979401287, 'reg_lambda': 0.11949606621112459, 'scale_pos_weight': 1.9447077371386678, 'base_score': 0.8}. Best is trial 25 with value: 0.030656939050725647.\n",
      "[I 2023-11-24 16:30:49,585] Trial 56 finished with value: 0.03178132496295404 and parameters: {'max_depth': 8, 'learning_rate': 0.11, 'n_estimators': 204, 'gamma': 0.010025072676787677, 'reg_lambda': 0.21606973442485283, 'scale_pos_weight': 1.5238308981139772, 'base_score': 0.7000000000000001}. Best is trial 25 with value: 0.030656939050725647.\n",
      "[I 2023-11-24 16:30:51,208] Trial 57 finished with value: 0.033940400756209965 and parameters: {'max_depth': 10, 'learning_rate': 0.14500000000000002, 'n_estimators': 864, 'gamma': 0.05149680433001061, 'reg_lambda': 0.01165085801325369, 'scale_pos_weight': 2.5934324092817698, 'base_score': 0.8}. Best is trial 25 with value: 0.030656939050725647.\n",
      "[I 2023-11-24 16:30:52,586] Trial 58 finished with value: 0.044927895698514436 and parameters: {'max_depth': 4, 'learning_rate': 0.125, 'n_estimators': 703, 'gamma': 0.10727335979734563, 'reg_lambda': 0.1371995819728451, 'scale_pos_weight': 2.1451987253463383, 'base_score': 0.9}. Best is trial 25 with value: 0.030656939050725647.\n",
      "[I 2023-11-24 16:30:53,664] Trial 59 finished with value: 0.03353838371384986 and parameters: {'max_depth': 9, 'learning_rate': 0.135, 'n_estimators': 384, 'gamma': 0.04784896111967179, 'reg_lambda': 0.32167349573016835, 'scale_pos_weight': 1.245001595136964, 'base_score': 0.9}. Best is trial 25 with value: 0.030656939050725647.\n",
      "[I 2023-11-24 16:30:54,557] Trial 60 finished with value: 0.038805822413357095 and parameters: {'max_depth': 8, 'learning_rate': 0.11, 'n_estimators': 244, 'gamma': 0.17034056582255977, 'reg_lambda': 0.10198682525970226, 'scale_pos_weight': 1.742872865505193, 'base_score': 0.7000000000000001}. Best is trial 25 with value: 0.030656939050725647.\n",
      "[I 2023-11-24 16:30:56,316] Trial 61 finished with value: 0.03218461536871922 and parameters: {'max_depth': 6, 'learning_rate': 0.14, 'n_estimators': 937, 'gamma': 0.0135073769520242, 'reg_lambda': 0.1542094684710922, 'scale_pos_weight': 2.1183228684519513, 'base_score': 0.5}. Best is trial 25 with value: 0.030656939050725647.\n",
      "[I 2023-11-24 16:30:57,848] Trial 62 finished with value: 0.0373377917145496 and parameters: {'max_depth': 6, 'learning_rate': 0.13, 'n_estimators': 898, 'gamma': 0.08980336744765038, 'reg_lambda': 0.19451018585344268, 'scale_pos_weight': 1.0240150660098755, 'base_score': 0.6}. Best is trial 25 with value: 0.030656939050725647.\n",
      "[I 2023-11-24 16:30:59,417] Trial 63 finished with value: 0.03746034489088514 and parameters: {'max_depth': 5, 'learning_rate': 0.15, 'n_estimators': 929, 'gamma': 0.045729219792278605, 'reg_lambda': 0.14789121600287763, 'scale_pos_weight': 2.480397411991282, 'base_score': 0.8}. Best is trial 25 with value: 0.030656939050725647.\n",
      "[I 2023-11-24 16:31:00,060] Trial 64 finished with value: 0.038935091535692745 and parameters: {'max_depth': 7, 'learning_rate': 0.14, 'n_estimators': 100, 'gamma': 0.12727352328763197, 'reg_lambda': 0.05827470761122855, 'scale_pos_weight': 1.4673735718176992, 'base_score': 0.6}. Best is trial 25 with value: 0.030656939050725647.\n",
      "[I 2023-11-24 16:31:01,655] Trial 65 finished with value: 0.03845005071493612 and parameters: {'max_depth': 6, 'learning_rate': 0.12, 'n_estimators': 969, 'gamma': 0.07688942511030983, 'reg_lambda': 0.2434073416530817, 'scale_pos_weight': 1.8707429369779467, 'base_score': 0.7000000000000001}. Best is trial 25 with value: 0.030656939050725647.\n",
      "[I 2023-11-24 16:31:02,719] Trial 66 finished with value: 0.031161166408392522 and parameters: {'max_depth': 9, 'learning_rate': 0.14500000000000002, 'n_estimators': 181, 'gamma': 0.01173400137613332, 'reg_lambda': 0.09469053614113859, 'scale_pos_weight': 1.3163473260388687, 'base_score': 0.5}. Best is trial 25 with value: 0.030656939050725647.\n",
      "[I 2023-11-24 16:31:03,622] Trial 67 finished with value: 0.03319608103777583 and parameters: {'max_depth': 9, 'learning_rate': 0.14500000000000002, 'n_estimators': 185, 'gamma': 0.03239493252400719, 'reg_lambda': 0.08963372342651013, 'scale_pos_weight': 1.3557376808604111, 'base_score': 0.5}. Best is trial 25 with value: 0.030656939050725647.\n",
      "[I 2023-11-24 16:31:04,593] Trial 68 finished with value: 0.03383803307413165 and parameters: {'max_depth': 10, 'learning_rate': 0.13, 'n_estimators': 317, 'gamma': 0.08977138758161408, 'reg_lambda': 0.07585742695119735, 'scale_pos_weight': 1.7649101726790548, 'base_score': 0.4}. Best is trial 25 with value: 0.030656939050725647.\n",
      "[I 2023-11-24 16:31:05,438] Trial 69 finished with value: 0.03644378718511207 and parameters: {'max_depth': 9, 'learning_rate': 0.125, 'n_estimators': 245, 'gamma': 0.13077966473750424, 'reg_lambda': 0.03941482511669883, 'scale_pos_weight': 1.2589808762008357, 'base_score': 0.9}. Best is trial 25 with value: 0.030656939050725647.\n",
      "[I 2023-11-24 16:31:06,289] Trial 70 finished with value: 0.033469132765183186 and parameters: {'max_depth': 8, 'learning_rate': 0.135, 'n_estimators': 154, 'gamma': 0.04178633887713351, 'reg_lambda': 0.1387413294062524, 'scale_pos_weight': 1.5486947479333502, 'base_score': 0.5}. Best is trial 25 with value: 0.030656939050725647.\n",
      "[I 2023-11-24 16:31:07,694] Trial 71 finished with value: 0.03281979117866004 and parameters: {'max_depth': 10, 'learning_rate': 0.14500000000000002, 'n_estimators': 482, 'gamma': 0.017548076506949305, 'reg_lambda': 0.1816490464862441, 'scale_pos_weight': 2.290576432879726, 'base_score': 0.6}. Best is trial 25 with value: 0.030656939050725647.\n",
      "[I 2023-11-24 16:31:09,130] Trial 72 finished with value: 0.03591707924507328 and parameters: {'max_depth': 9, 'learning_rate': 0.15, 'n_estimators': 799, 'gamma': 0.06768448325948065, 'reg_lambda': 0.10512449443404012, 'scale_pos_weight': 1.9035546512222945, 'base_score': 0.8}. Best is trial 25 with value: 0.030656939050725647.\n",
      "[I 2023-11-24 16:31:10,683] Trial 73 finished with value: 0.0343454786672819 and parameters: {'max_depth': 7, 'learning_rate': 0.14, 'n_estimators': 860, 'gamma': 0.034776322474558724, 'reg_lambda': 0.036509290107227824, 'scale_pos_weight': 1.226373528396926, 'base_score': 0.4}. Best is trial 25 with value: 0.030656939050725647.\n",
      "[I 2023-11-24 16:31:11,447] Trial 74 finished with value: 0.04338354587051012 and parameters: {'max_depth': 8, 'learning_rate': 0.06999999999999999, 'n_estimators': 98, 'gamma': 0.011270559032040692, 'reg_lambda': 0.16646615208351254, 'scale_pos_weight': 1.6011490534118433, 'base_score': 0.7000000000000001}. Best is trial 25 with value: 0.030656939050725647.\n",
      "[I 2023-11-24 16:31:12,236] Trial 75 finished with value: 0.041806787073745445 and parameters: {'max_depth': 5, 'learning_rate': 0.135, 'n_estimators': 223, 'gamma': 0.10292450496791564, 'reg_lambda': 0.21768823355901828, 'scale_pos_weight': 1.0624197110428208, 'base_score': 0.5}. Best is trial 25 with value: 0.030656939050725647.\n",
      "[I 2023-11-24 16:31:13,433] Trial 76 finished with value: 0.03529059388824909 and parameters: {'max_depth': 10, 'learning_rate': 0.11499999999999999, 'n_estimators': 439, 'gamma': 0.06862716373978406, 'reg_lambda': 0.13169224204997043, 'scale_pos_weight': 2.6240183279742375, 'base_score': 0.6}. Best is trial 25 with value: 0.030656939050725647.\n",
      "[I 2023-11-24 16:31:15,331] Trial 77 finished with value: 0.03657158351009188 and parameters: {'max_depth': 9, 'learning_rate': 0.045000000000000005, 'n_estimators': 911, 'gamma': 0.16632623427822366, 'reg_lambda': 0.08141005559894092, 'scale_pos_weight': 2.2719783124987636, 'base_score': 0.30000000000000004}. Best is trial 25 with value: 0.030656939050725647.\n",
      "[I 2023-11-24 16:31:17,020] Trial 78 finished with value: 0.0354515401546467 and parameters: {'max_depth': 6, 'learning_rate': 0.13, 'n_estimators': 960, 'gamma': 0.04111620123654258, 'reg_lambda': 0.12440741553186441, 'scale_pos_weight': 1.9208269041047068, 'base_score': 0.7000000000000001}. Best is trial 25 with value: 0.030656939050725647.\n",
      "[I 2023-11-24 16:31:18,258] Trial 79 finished with value: 0.0353068597109684 and parameters: {'max_depth': 10, 'learning_rate': 0.14500000000000002, 'n_estimators': 595, 'gamma': 0.12065730294372895, 'reg_lambda': 0.27209040241573285, 'scale_pos_weight': 1.6594043102641505, 'base_score': 0.8}. Best is trial 25 with value: 0.030656939050725647.\n",
      "[I 2023-11-24 16:31:19,682] Trial 80 finished with value: 0.07536378699943132 and parameters: {'max_depth': 1, 'learning_rate': 0.09999999999999999, 'n_estimators': 884, 'gamma': 0.08428303901496675, 'reg_lambda': 0.10567351899999262, 'scale_pos_weight': 1.2516217256567652, 'base_score': 0.5}. Best is trial 25 with value: 0.030656939050725647.\n",
      "[I 2023-11-24 16:31:21,265] Trial 81 finished with value: 0.03200068235380896 and parameters: {'max_depth': 10, 'learning_rate': 0.12, 'n_estimators': 535, 'gamma': 0.012457206770688707, 'reg_lambda': 0.18187790738445364, 'scale_pos_weight': 2.350182010191391, 'base_score': 0.7000000000000001}. Best is trial 25 with value: 0.030656939050725647.\n",
      "[I 2023-11-24 16:31:22,493] Trial 82 finished with value: 0.03432418581308655 and parameters: {'max_depth': 9, 'learning_rate': 0.14, 'n_estimators': 505, 'gamma': 0.059814912438681374, 'reg_lambda': 0.40657414500770483, 'scale_pos_weight': 2.0612724647203637, 'base_score': 0.6}. Best is trial 25 with value: 0.030656939050725647.\n",
      "[I 2023-11-24 16:31:23,574] Trial 83 finished with value: 0.032564764947702905 and parameters: {'max_depth': 10, 'learning_rate': 0.125, 'n_estimators': 181, 'gamma': 0.03400950068781999, 'reg_lambda': 0.24183503576660853, 'scale_pos_weight': 1.4766890530678203, 'base_score': 0.7000000000000001}. Best is trial 25 with value: 0.030656939050725647.\n",
      "[I 2023-11-24 16:31:24,839] Trial 84 finished with value: 0.03492492364485575 and parameters: {'max_depth': 10, 'learning_rate': 0.12, 'n_estimators': 459, 'gamma': 0.06656121098060964, 'reg_lambda': 0.2916192831815006, 'scale_pos_weight': 3.0113758733518887, 'base_score': 0.8}. Best is trial 25 with value: 0.030656939050725647.\n",
      "[I 2023-11-24 16:31:25,893] Trial 85 finished with value: 0.03250438831286946 and parameters: {'max_depth': 9, 'learning_rate': 0.135, 'n_estimators': 290, 'gamma': 0.03389450505833926, 'reg_lambda': 0.19922287603853542, 'scale_pos_weight': 1.7119437118714638, 'base_score': 0.6}. Best is trial 25 with value: 0.030656939050725647.\n",
      "[I 2023-11-24 16:31:27,955] Trial 86 finished with value: 0.03553672688660704 and parameters: {'max_depth': 9, 'learning_rate': 0.035, 'n_estimators': 671, 'gamma': 0.09394971143052512, 'reg_lambda': 0.1652234319784658, 'scale_pos_weight': 1.2033093275381925, 'base_score': 0.9}. Best is trial 25 with value: 0.030656939050725647.\n",
      "[I 2023-11-24 16:31:29,006] Trial 87 finished with value: 0.03473061486755249 and parameters: {'max_depth': 8, 'learning_rate': 0.13, 'n_estimators': 380, 'gamma': 0.05886710618125574, 'reg_lambda': 0.031300248452329135, 'scale_pos_weight': 1.8615620152549293, 'base_score': 0.8}. Best is trial 25 with value: 0.030656939050725647.\n",
      "[I 2023-11-24 16:31:30,429] Trial 88 finished with value: 0.035573687710655076 and parameters: {'max_depth': 10, 'learning_rate': 0.14500000000000002, 'n_estimators': 812, 'gamma': 0.14852517764974152, 'reg_lambda': 0.05722210006196772, 'scale_pos_weight': 1.0070121046767486, 'base_score': 0.7000000000000001}. Best is trial 25 with value: 0.030656939050725647.\n",
      "[I 2023-11-24 16:31:32,181] Trial 89 finished with value: 0.034528172988767716 and parameters: {'max_depth': 4, 'learning_rate': 0.15, 'n_estimators': 838, 'gamma': 0.011314229443116131, 'reg_lambda': 0.10330420862416656, 'scale_pos_weight': 2.7389488206918893, 'base_score': 0.9}. Best is trial 25 with value: 0.030656939050725647.\n",
      "[I 2023-11-24 16:31:33,015] Trial 90 finished with value: 0.04245343802774689 and parameters: {'max_depth': 5, 'learning_rate': 0.125, 'n_estimators': 266, 'gamma': 0.1226242397445769, 'reg_lambda': 0.14522330708661768, 'scale_pos_weight': 1.4114601944094116, 'base_score': 0.6}. Best is trial 25 with value: 0.030656939050725647.\n",
      "[I 2023-11-24 16:31:33,977] Trial 91 finished with value: 0.03322055235791379 and parameters: {'max_depth': 8, 'learning_rate': 0.11, 'n_estimators': 200, 'gamma': 0.034143398563300266, 'reg_lambda': 0.0696347787191986, 'scale_pos_weight': 1.4794639344970353, 'base_score': 0.7000000000000001}. Best is trial 25 with value: 0.030656939050725647.\n",
      "[I 2023-11-24 16:31:35,044] Trial 92 finished with value: 0.03238914162083782 and parameters: {'max_depth': 9, 'learning_rate': 0.11499999999999999, 'n_estimators': 135, 'gamma': 0.015769969863512062, 'reg_lambda': 0.21578275557813625, 'scale_pos_weight': 2.090428156071887, 'base_score': 0.7000000000000001}. Best is trial 25 with value: 0.030656939050725647.\n",
      "[I 2023-11-24 16:31:35,658] Trial 93 finished with value: 0.04375150061995349 and parameters: {'max_depth': 8, 'learning_rate': 0.135, 'n_estimators': 53, 'gamma': 0.05503012603337251, 'reg_lambda': 0.23284877670804183, 'scale_pos_weight': 1.4875208568271183, 'base_score': 0.7000000000000001}. Best is trial 25 with value: 0.030656939050725647.\n",
      "[I 2023-11-24 16:31:36,638] Trial 94 finished with value: 0.03517548902562849 and parameters: {'max_depth': 9, 'learning_rate': 0.14, 'n_estimators': 322, 'gamma': 0.08423099305137205, 'reg_lambda': 0.260346734893669, 'scale_pos_weight': 1.7129437653545854, 'base_score': 0.8}. Best is trial 25 with value: 0.030656939050725647.\n",
      "[I 2023-11-24 16:31:38,198] Trial 95 finished with value: 0.034883334570386546 and parameters: {'max_depth': 6, 'learning_rate': 0.105, 'n_estimators': 757, 'gamma': 0.031566348863545986, 'reg_lambda': 0.2159552254946201, 'scale_pos_weight': 2.438174495427437, 'base_score': 0.5}. Best is trial 25 with value: 0.030656939050725647.\n",
      "[I 2023-11-24 16:31:39,794] Trial 96 finished with value: 0.037392539160979114 and parameters: {'max_depth': 7, 'learning_rate': 0.12, 'n_estimators': 930, 'gamma': 0.10710865243927371, 'reg_lambda': 0.17041010247314123, 'scale_pos_weight': 1.200002034600493, 'base_score': 0.7000000000000001}. Best is trial 25 with value: 0.030656939050725647.\n",
      "[I 2023-11-24 16:31:41,439] Trial 97 finished with value: 0.03669916186496142 and parameters: {'max_depth': 9, 'learning_rate': 0.13, 'n_estimators': 998, 'gamma': 0.07266180504240771, 'reg_lambda': 0.13740805414848617, 'scale_pos_weight': 2.221693918738073, 'base_score': 0.8}. Best is trial 25 with value: 0.030656939050725647.\n",
      "[I 2023-11-24 16:31:42,310] Trial 98 finished with value: 0.04202756316377077 and parameters: {'max_depth': 5, 'learning_rate': 0.125, 'n_estimators': 225, 'gamma': 0.01084667591863642, 'reg_lambda': 0.11600311914295418, 'scale_pos_weight': 1.9510167092575565, 'base_score': 0.6}. Best is trial 25 with value: 0.030656939050725647.\n",
      "[I 2023-11-24 16:31:43,277] Trial 99 finished with value: 0.03396686258974215 and parameters: {'max_depth': 10, 'learning_rate': 0.11499999999999999, 'n_estimators': 176, 'gamma': 0.05015964546994009, 'reg_lambda': 0.19686399872135918, 'scale_pos_weight': 1.583031788641544, 'base_score': 0.9}. Best is trial 25 with value: 0.030656939050725647.\n"
     ]
    }
   ],
   "source": [
    "study = optuna.create_study(direction='minimize', study_name='regression')\n",
    "study.optimize(objective, n_trials=100)"
   ]
  },
  {
   "cell_type": "code",
   "execution_count": 180,
   "metadata": {},
   "outputs": [
    {
     "data": {
      "text/plain": [
       "{'max_depth': 9,\n",
       " 'learning_rate': 0.125,\n",
       " 'n_estimators': 487,\n",
       " 'gamma': 0.010640880934863295,\n",
       " 'reg_lambda': 0.11147080571581364,\n",
       " 'scale_pos_weight': 1.0065977727703983,\n",
       " 'base_score': 0.7000000000000001}"
      ]
     },
     "execution_count": 180,
     "metadata": {},
     "output_type": "execute_result"
    }
   ],
   "source": [
    "study.best_params\n"
   ]
  },
  {
   "cell_type": "markdown",
   "metadata": {},
   "source": [
    "## Making the regression model"
   ]
  },
  {
   "cell_type": "code",
   "execution_count": 198,
   "metadata": {},
   "outputs": [
    {
     "name": "stdout",
     "output_type": "stream",
     "text": [
      "[0]\tvalidation_0-rmse:0.42509\tvalidation_1-rmse:0.42449\n",
      "[100]\tvalidation_0-rmse:0.12912\tvalidation_1-rmse:0.18551\n",
      "[182]\tvalidation_0-rmse:0.09995\tvalidation_1-rmse:0.17509\n"
     ]
    },
    {
     "data": {
      "text/html": [
       "<style>#sk-container-id-12 {color: black;}#sk-container-id-12 pre{padding: 0;}#sk-container-id-12 div.sk-toggleable {background-color: white;}#sk-container-id-12 label.sk-toggleable__label {cursor: pointer;display: block;width: 100%;margin-bottom: 0;padding: 0.3em;box-sizing: border-box;text-align: center;}#sk-container-id-12 label.sk-toggleable__label-arrow:before {content: \"▸\";float: left;margin-right: 0.25em;color: #696969;}#sk-container-id-12 label.sk-toggleable__label-arrow:hover:before {color: black;}#sk-container-id-12 div.sk-estimator:hover label.sk-toggleable__label-arrow:before {color: black;}#sk-container-id-12 div.sk-toggleable__content {max-height: 0;max-width: 0;overflow: hidden;text-align: left;background-color: #f0f8ff;}#sk-container-id-12 div.sk-toggleable__content pre {margin: 0.2em;color: black;border-radius: 0.25em;background-color: #f0f8ff;}#sk-container-id-12 input.sk-toggleable__control:checked~div.sk-toggleable__content {max-height: 200px;max-width: 100%;overflow: auto;}#sk-container-id-12 input.sk-toggleable__control:checked~label.sk-toggleable__label-arrow:before {content: \"▾\";}#sk-container-id-12 div.sk-estimator input.sk-toggleable__control:checked~label.sk-toggleable__label {background-color: #d4ebff;}#sk-container-id-12 div.sk-label input.sk-toggleable__control:checked~label.sk-toggleable__label {background-color: #d4ebff;}#sk-container-id-12 input.sk-hidden--visually {border: 0;clip: rect(1px 1px 1px 1px);clip: rect(1px, 1px, 1px, 1px);height: 1px;margin: -1px;overflow: hidden;padding: 0;position: absolute;width: 1px;}#sk-container-id-12 div.sk-estimator {font-family: monospace;background-color: #f0f8ff;border: 1px dotted black;border-radius: 0.25em;box-sizing: border-box;margin-bottom: 0.5em;}#sk-container-id-12 div.sk-estimator:hover {background-color: #d4ebff;}#sk-container-id-12 div.sk-parallel-item::after {content: \"\";width: 100%;border-bottom: 1px solid gray;flex-grow: 1;}#sk-container-id-12 div.sk-label:hover label.sk-toggleable__label {background-color: #d4ebff;}#sk-container-id-12 div.sk-serial::before {content: \"\";position: absolute;border-left: 1px solid gray;box-sizing: border-box;top: 0;bottom: 0;left: 50%;z-index: 0;}#sk-container-id-12 div.sk-serial {display: flex;flex-direction: column;align-items: center;background-color: white;padding-right: 0.2em;padding-left: 0.2em;position: relative;}#sk-container-id-12 div.sk-item {position: relative;z-index: 1;}#sk-container-id-12 div.sk-parallel {display: flex;align-items: stretch;justify-content: center;background-color: white;position: relative;}#sk-container-id-12 div.sk-item::before, #sk-container-id-12 div.sk-parallel-item::before {content: \"\";position: absolute;border-left: 1px solid gray;box-sizing: border-box;top: 0;bottom: 0;left: 50%;z-index: -1;}#sk-container-id-12 div.sk-parallel-item {display: flex;flex-direction: column;z-index: 1;position: relative;background-color: white;}#sk-container-id-12 div.sk-parallel-item:first-child::after {align-self: flex-end;width: 50%;}#sk-container-id-12 div.sk-parallel-item:last-child::after {align-self: flex-start;width: 50%;}#sk-container-id-12 div.sk-parallel-item:only-child::after {width: 0;}#sk-container-id-12 div.sk-dashed-wrapped {border: 1px dashed gray;margin: 0 0.4em 0.5em 0.4em;box-sizing: border-box;padding-bottom: 0.4em;background-color: white;}#sk-container-id-12 div.sk-label label {font-family: monospace;font-weight: bold;display: inline-block;line-height: 1.2em;}#sk-container-id-12 div.sk-label-container {text-align: center;}#sk-container-id-12 div.sk-container {/* jupyter's `normalize.less` sets `[hidden] { display: none; }` but bootstrap.min.css set `[hidden] { display: none !important; }` so we also need the `!important` here to be able to override the default hidden behavior on the sphinx rendered scikit-learn.org. See: https://github.com/scikit-learn/scikit-learn/issues/21755 */display: inline-block !important;position: relative;}#sk-container-id-12 div.sk-text-repr-fallback {display: none;}</style><div id=\"sk-container-id-12\" class=\"sk-top-container\"><div class=\"sk-text-repr-fallback\"><pre>XGBRegressor(base_score=0.7000000000000001, booster=&#x27;gbtree&#x27;, callbacks=None,\n",
       "             colsample_bylevel=None, colsample_bynode=None,\n",
       "             colsample_bytree=None, device=None, early_stopping_rounds=10,\n",
       "             enable_categorical=False, eval_metric=&#x27;rmse&#x27;, feature_types=None,\n",
       "             gamma=0.010640880934863295, grow_policy=None, importance_type=None,\n",
       "             interaction_constraints=None, learning_rate=0.125, max_bin=None,\n",
       "             max_cat_threshold=None, max_cat_to_onehot=None,\n",
       "             max_delta_step=None, max_depth=9, max_leaves=None,\n",
       "             min_child_weight=None, missing=nan, monotone_constraints=None,\n",
       "             multi_strategy=None, n_estimators=487, n_jobs=None,\n",
       "             num_parallel_tree=None, random_state=None, ...)</pre><b>In a Jupyter environment, please rerun this cell to show the HTML representation or trust the notebook. <br />On GitHub, the HTML representation is unable to render, please try loading this page with nbviewer.org.</b></div><div class=\"sk-container\" hidden><div class=\"sk-item\"><div class=\"sk-estimator sk-toggleable\"><input class=\"sk-toggleable__control sk-hidden--visually\" id=\"sk-estimator-id-12\" type=\"checkbox\" checked><label for=\"sk-estimator-id-12\" class=\"sk-toggleable__label sk-toggleable__label-arrow\">XGBRegressor</label><div class=\"sk-toggleable__content\"><pre>XGBRegressor(base_score=0.7000000000000001, booster=&#x27;gbtree&#x27;, callbacks=None,\n",
       "             colsample_bylevel=None, colsample_bynode=None,\n",
       "             colsample_bytree=None, device=None, early_stopping_rounds=10,\n",
       "             enable_categorical=False, eval_metric=&#x27;rmse&#x27;, feature_types=None,\n",
       "             gamma=0.010640880934863295, grow_policy=None, importance_type=None,\n",
       "             interaction_constraints=None, learning_rate=0.125, max_bin=None,\n",
       "             max_cat_threshold=None, max_cat_to_onehot=None,\n",
       "             max_delta_step=None, max_depth=9, max_leaves=None,\n",
       "             min_child_weight=None, missing=nan, monotone_constraints=None,\n",
       "             multi_strategy=None, n_estimators=487, n_jobs=None,\n",
       "             num_parallel_tree=None, random_state=None, ...)</pre></div></div></div></div></div>"
      ],
      "text/plain": [
       "XGBRegressor(base_score=0.7000000000000001, booster='gbtree', callbacks=None,\n",
       "             colsample_bylevel=None, colsample_bynode=None,\n",
       "             colsample_bytree=None, device=None, early_stopping_rounds=10,\n",
       "             enable_categorical=False, eval_metric='rmse', feature_types=None,\n",
       "             gamma=0.010640880934863295, grow_policy=None, importance_type=None,\n",
       "             interaction_constraints=None, learning_rate=0.125, max_bin=None,\n",
       "             max_cat_threshold=None, max_cat_to_onehot=None,\n",
       "             max_delta_step=None, max_depth=9, max_leaves=None,\n",
       "             min_child_weight=None, missing=nan, monotone_constraints=None,\n",
       "             multi_strategy=None, n_estimators=487, n_jobs=None,\n",
       "             num_parallel_tree=None, random_state=None, ...)"
      ]
     },
     "execution_count": 198,
     "metadata": {},
     "output_type": "execute_result"
    }
   ],
   "source": [
    "FINAL_PARAMETERS = study.best_params\n",
    "\n",
    "model_OPT = xgb.XGBRegressor(**FINAL_PARAMETERS, booster='gbtree',early_stopping_rounds=10,eval_metric='rmse')\n",
    "model_OPT.fit(  X_train,\n",
    "            Y_train,\n",
    "            eval_set=[(X_train, Y_train),(X_test, Y_test)],\n",
    "            verbose=100\n",
    "          )"
   ]
  },
  {
   "cell_type": "markdown",
   "metadata": {},
   "source": [
    "## R² score of the model"
   ]
  },
  {
   "cell_type": "code",
   "execution_count": 199,
   "metadata": {},
   "outputs": [
    {
     "data": {
      "text/plain": [
       "0.8065665644110817"
      ]
     },
     "execution_count": 199,
     "metadata": {},
     "output_type": "execute_result"
    }
   ],
   "source": [
    "model_OPT.score(X_test, Y_test)"
   ]
  },
  {
   "cell_type": "markdown",
   "metadata": {},
   "source": [
    "## Making predictions"
   ]
  },
  {
   "cell_type": "code",
   "execution_count": 252,
   "metadata": {},
   "outputs": [
    {
     "name": "stdout",
     "output_type": "stream",
     "text": [
      "Input: \n"
     ]
    },
    {
     "data": {
      "text/html": [
       "<div>\n",
       "<style scoped>\n",
       "    .dataframe tbody tr th:only-of-type {\n",
       "        vertical-align: middle;\n",
       "    }\n",
       "\n",
       "    .dataframe tbody tr th {\n",
       "        vertical-align: top;\n",
       "    }\n",
       "\n",
       "    .dataframe thead th {\n",
       "        text-align: right;\n",
       "    }\n",
       "</style>\n",
       "<table border=\"1\" class=\"dataframe\">\n",
       "  <thead>\n",
       "    <tr style=\"text-align: right;\">\n",
       "      <th></th>\n",
       "      <th>p1_hp</th>\n",
       "      <th>p1_ac</th>\n",
       "      <th>p1_avg_save</th>\n",
       "      <th>p2_hp</th>\n",
       "      <th>p2_ac</th>\n",
       "      <th>p2_avg_save</th>\n",
       "      <th>p3_hp</th>\n",
       "      <th>p3_ac</th>\n",
       "      <th>p3_avg_save</th>\n",
       "      <th>p4_hp</th>\n",
       "      <th>...</th>\n",
       "      <th>monster_type_dragon</th>\n",
       "      <th>monster_type_elemental</th>\n",
       "      <th>monster_type_fey</th>\n",
       "      <th>monster_type_fiend</th>\n",
       "      <th>monster_type_giant</th>\n",
       "      <th>monster_type_humanoid</th>\n",
       "      <th>monster_type_monstrosity</th>\n",
       "      <th>monster_type_ooze</th>\n",
       "      <th>monster_type_plant</th>\n",
       "      <th>monster_type_undead</th>\n",
       "    </tr>\n",
       "  </thead>\n",
       "  <tbody>\n",
       "    <tr>\n",
       "      <th>10098</th>\n",
       "      <td>22</td>\n",
       "      <td>16</td>\n",
       "      <td>3</td>\n",
       "      <td>30</td>\n",
       "      <td>16</td>\n",
       "      <td>3</td>\n",
       "      <td>16</td>\n",
       "      <td>10</td>\n",
       "      <td>3</td>\n",
       "      <td>25</td>\n",
       "      <td>...</td>\n",
       "      <td>False</td>\n",
       "      <td>False</td>\n",
       "      <td>False</td>\n",
       "      <td>False</td>\n",
       "      <td>False</td>\n",
       "      <td>False</td>\n",
       "      <td>False</td>\n",
       "      <td>False</td>\n",
       "      <td>False</td>\n",
       "      <td>False</td>\n",
       "    </tr>\n",
       "  </tbody>\n",
       "</table>\n",
       "<p>1 rows × 83 columns</p>\n",
       "</div>"
      ],
      "text/plain": [
       "      p1_hp p1_ac p1_avg_save p2_hp p2_ac p2_avg_save p3_hp p3_ac p3_avg_save  \\\n",
       "10098    22    16           3    30    16           3    16    10           3   \n",
       "\n",
       "      p4_hp  ... monster_type_dragon monster_type_elemental monster_type_fey  \\\n",
       "10098    25  ...               False                  False            False   \n",
       "\n",
       "      monster_type_fiend monster_type_giant monster_type_humanoid  \\\n",
       "10098              False              False                 False   \n",
       "\n",
       "      monster_type_monstrosity monster_type_ooze monster_type_plant  \\\n",
       "10098                    False             False              False   \n",
       "\n",
       "      monster_type_undead  \n",
       "10098               False  \n",
       "\n",
       "[1 rows x 83 columns]"
      ]
     },
     "metadata": {},
     "output_type": "display_data"
    },
    {
     "name": "stdout",
     "output_type": "stream",
     "text": [
      "The combat was btween 4 players level 3 against 10 monster(s) CR 0.0\n",
      "Expected:  0.0\n",
      "Predicted:  0.20031352\n"
     ]
    }
   ],
   "source": [
    "predict(model_OPT)"
   ]
  },
  {
   "cell_type": "markdown",
   "metadata": {},
   "source": [
    "## Seeing the model feature importance"
   ]
  },
  {
   "cell_type": "code",
   "execution_count": 242,
   "metadata": {},
   "outputs": [
    {
     "data": {
      "text/plain": [
       "<Axes: title={'center': 'Feature importance'}, xlabel='F score', ylabel='Features'>"
      ]
     },
     "execution_count": 242,
     "metadata": {},
     "output_type": "execute_result"
    },
    {
     "data": {
      "image/png": "[encoded data removed]",
      "text/plain": [
       "<Figure size 640x480 with 1 Axes>"
      ]
     },
     "metadata": {},
     "output_type": "display_data"
    }
   ],
   "source": [
    "plot_importance(model_OPT, max_num_features=20, importance_type='weight')"
   ]
  }
 ],
 "metadata": {
  "kernelspec": {
   "display_name": ".venv",
   "language": "python",
   "name": "python3"
  },
  "language_info": {
   "codemirror_mode": {
    "name": "ipython",
    "version": 3
   },
   "file_extension": ".py",
   "mimetype": "text/x-python",
   "name": "python",
   "nbconvert_exporter": "python",
   "pygments_lexer": "ipython3",
   "version": "3.9.13"
  }
 },
 "nbformat": 4,
 "nbformat_minor": 2
}
