{
 "cells": [
  {
   "cell_type": "code",
   "execution_count": 1,
   "metadata": {},
   "outputs": [],
   "source": [
    "import pandas as pd"
   ]
  },
  {
   "cell_type": "code",
   "execution_count": 2,
   "metadata": {},
   "outputs": [
    {
     "data": {
      "text/html": [
       "<div>\n",
       "<style scoped>\n",
       "    .dataframe tbody tr th:only-of-type {\n",
       "        vertical-align: middle;\n",
       "    }\n",
       "\n",
       "    .dataframe tbody tr th {\n",
       "        vertical-align: top;\n",
       "    }\n",
       "\n",
       "    .dataframe thead th {\n",
       "        text-align: right;\n",
       "    }\n",
       "</style>\n",
       "<table border=\"1\" class=\"dataframe\">\n",
       "  <thead>\n",
       "    <tr style=\"text-align: right;\">\n",
       "      <th></th>\n",
       "      <th>Enemy</th>\n",
       "      <th>CR</th>\n",
       "    </tr>\n",
       "  </thead>\n",
       "  <tbody>\n",
       "    <tr>\n",
       "      <th>533</th>\n",
       "      <td>Sahuagin Priestess</td>\n",
       "      <td>CR 2</td>\n",
       "    </tr>\n",
       "    <tr>\n",
       "      <th>20</th>\n",
       "      <td>Alhoon</td>\n",
       "      <td>CR 10</td>\n",
       "    </tr>\n",
       "    <tr>\n",
       "      <th>419</th>\n",
       "      <td>Medusa</td>\n",
       "      <td>CR 6</td>\n",
       "    </tr>\n",
       "    <tr>\n",
       "      <th>96</th>\n",
       "      <td>Boneclaw</td>\n",
       "      <td>CR 12</td>\n",
       "    </tr>\n",
       "    <tr>\n",
       "      <th>143</th>\n",
       "      <td>Cultist</td>\n",
       "      <td>CR 1/8</td>\n",
       "    </tr>\n",
       "  </tbody>\n",
       "</table>\n",
       "</div>"
      ],
      "text/plain": [
       "                  Enemy      CR\n",
       "533  Sahuagin Priestess    CR 2\n",
       "20               Alhoon   CR 10\n",
       "419              Medusa    CR 6\n",
       "96             Boneclaw   CR 12\n",
       "143             Cultist  CR 1/8"
      ]
     },
     "execution_count": 2,
     "metadata": {},
     "output_type": "execute_result"
    }
   ],
   "source": [
    "df = pd.read_csv('../Data/enemies.csv')\n",
    "df.sample(5)"
   ]
  },
  {
   "cell_type": "code",
   "execution_count": 3,
   "metadata": {},
   "outputs": [],
   "source": [
    "def transformFraction(frac):\n",
    "    frac = frac.strip('CR ')\n",
    "    try:\n",
    "        return float(frac)\n",
    "    except:\n",
    "        if frac == '1/2':\n",
    "            return 0.5\n",
    "        elif frac == '1/4':\n",
    "            return 0.25\n",
    "        elif frac == '1/8':\n",
    "            return 0.125\n",
    "        else:\n",
    "            return -1"
   ]
  },
  {
   "cell_type": "code",
   "execution_count": 4,
   "metadata": {},
   "outputs": [
    {
     "data": {
      "text/plain": [
       "array(['CR 1/4', 'CR 9', 'CR 10', 'CR 14', 'CR 17', 'CR 16', 'CR 13',\n",
       "       'CR 15', 'CR 2', 'CR 5', 'CR 7', 'CR 11', 'CR 18', 'CR 21',\n",
       "       'CR 23', 'CR 20', 'CR 22', 'CR 24', 'CR 1', 'CR 3', 'CR 6',\n",
       "       'CR 1/2', 'CR 12', 'CR 8', 'CR 0', 'CR 4', 'CR 19', 'CR 1/8',\n",
       "       'CR 26', 'CR 25', 'CR —', 'CR 30'], dtype=object)"
      ]
     },
     "execution_count": 4,
     "metadata": {},
     "output_type": "execute_result"
    }
   ],
   "source": [
    "df['CR'].unique()"
   ]
  },
  {
   "cell_type": "code",
   "execution_count": 5,
   "metadata": {},
   "outputs": [],
   "source": [
    "df['CR'] = df['CR'].apply(transformFraction)"
   ]
  },
  {
   "cell_type": "code",
   "execution_count": 6,
   "metadata": {},
   "outputs": [
    {
     "data": {
      "text/html": [
       "<div>\n",
       "<style scoped>\n",
       "    .dataframe tbody tr th:only-of-type {\n",
       "        vertical-align: middle;\n",
       "    }\n",
       "\n",
       "    .dataframe tbody tr th {\n",
       "        vertical-align: top;\n",
       "    }\n",
       "\n",
       "    .dataframe thead th {\n",
       "        text-align: right;\n",
       "    }\n",
       "</style>\n",
       "<table border=\"1\" class=\"dataframe\">\n",
       "  <thead>\n",
       "    <tr style=\"text-align: right;\">\n",
       "      <th></th>\n",
       "      <th>Enemy</th>\n",
       "      <th>CR</th>\n",
       "    </tr>\n",
       "  </thead>\n",
       "  <tbody>\n",
       "    <tr>\n",
       "      <th>504</th>\n",
       "      <td>Quaggoth Spore Servant</td>\n",
       "      <td>1.00</td>\n",
       "    </tr>\n",
       "    <tr>\n",
       "      <th>600</th>\n",
       "      <td>Swarm of Spiders</td>\n",
       "      <td>0.50</td>\n",
       "    </tr>\n",
       "    <tr>\n",
       "      <th>665</th>\n",
       "      <td>Winged Kobold</td>\n",
       "      <td>0.25</td>\n",
       "    </tr>\n",
       "    <tr>\n",
       "      <th>499</th>\n",
       "      <td>Pseudodragon</td>\n",
       "      <td>0.25</td>\n",
       "    </tr>\n",
       "    <tr>\n",
       "      <th>529</th>\n",
       "      <td>Saber-Toothed Tiger</td>\n",
       "      <td>2.00</td>\n",
       "    </tr>\n",
       "  </tbody>\n",
       "</table>\n",
       "</div>"
      ],
      "text/plain": [
       "                      Enemy    CR\n",
       "504  Quaggoth Spore Servant  1.00\n",
       "600        Swarm of Spiders  0.50\n",
       "665           Winged Kobold  0.25\n",
       "499            Pseudodragon  0.25\n",
       "529     Saber-Toothed Tiger  2.00"
      ]
     },
     "execution_count": 6,
     "metadata": {},
     "output_type": "execute_result"
    }
   ],
   "source": [
    "df.sample(5)"
   ]
  },
  {
   "cell_type": "code",
   "execution_count": 7,
   "metadata": {},
   "outputs": [],
   "source": [
    "df = df[df['CR'] < 14]\n"
   ]
  },
  {
   "cell_type": "code",
   "execution_count": 8,
   "metadata": {},
   "outputs": [
    {
     "data": {
      "text/html": [
       "<div>\n",
       "<style scoped>\n",
       "    .dataframe tbody tr th:only-of-type {\n",
       "        vertical-align: middle;\n",
       "    }\n",
       "\n",
       "    .dataframe tbody tr th {\n",
       "        vertical-align: top;\n",
       "    }\n",
       "\n",
       "    .dataframe thead th {\n",
       "        text-align: right;\n",
       "    }\n",
       "</style>\n",
       "<table border=\"1\" class=\"dataframe\">\n",
       "  <thead>\n",
       "    <tr style=\"text-align: right;\">\n",
       "      <th></th>\n",
       "      <th>Enemy</th>\n",
       "      <th>CR</th>\n",
       "    </tr>\n",
       "  </thead>\n",
       "  <tbody>\n",
       "    <tr>\n",
       "      <th>197</th>\n",
       "      <td>Duergar Hammerer</td>\n",
       "      <td>2.0</td>\n",
       "    </tr>\n",
       "    <tr>\n",
       "      <th>317</th>\n",
       "      <td>Gray Ooze</td>\n",
       "      <td>0.5</td>\n",
       "    </tr>\n",
       "    <tr>\n",
       "      <th>414</th>\n",
       "      <td>Master Thief</td>\n",
       "      <td>5.0</td>\n",
       "    </tr>\n",
       "    <tr>\n",
       "      <th>547</th>\n",
       "      <td>Shadow Mastiff</td>\n",
       "      <td>2.0</td>\n",
       "    </tr>\n",
       "    <tr>\n",
       "      <th>412</th>\n",
       "      <td>Martial Arts Adept</td>\n",
       "      <td>3.0</td>\n",
       "    </tr>\n",
       "  </tbody>\n",
       "</table>\n",
       "</div>"
      ],
      "text/plain": [
       "                  Enemy   CR\n",
       "197    Duergar Hammerer  2.0\n",
       "317           Gray Ooze  0.5\n",
       "414        Master Thief  5.0\n",
       "547      Shadow Mastiff  2.0\n",
       "412  Martial Arts Adept  3.0"
      ]
     },
     "execution_count": 8,
     "metadata": {},
     "output_type": "execute_result"
    }
   ],
   "source": [
    "df.sample(5)"
   ]
  },
  {
   "cell_type": "code",
   "execution_count": 9,
   "metadata": {},
   "outputs": [],
   "source": [
    "df.rename(columns={'CR':'cr','Enemy':'name'}, inplace=True)"
   ]
  },
  {
   "cell_type": "code",
   "execution_count": 10,
   "metadata": {},
   "outputs": [
    {
     "data": {
      "text/html": [
       "<div>\n",
       "<style scoped>\n",
       "    .dataframe tbody tr th:only-of-type {\n",
       "        vertical-align: middle;\n",
       "    }\n",
       "\n",
       "    .dataframe tbody tr th {\n",
       "        vertical-align: top;\n",
       "    }\n",
       "\n",
       "    .dataframe thead th {\n",
       "        text-align: right;\n",
       "    }\n",
       "</style>\n",
       "<table border=\"1\" class=\"dataframe\">\n",
       "  <thead>\n",
       "    <tr style=\"text-align: right;\">\n",
       "      <th></th>\n",
       "      <th>name</th>\n",
       "      <th>cr</th>\n",
       "    </tr>\n",
       "  </thead>\n",
       "  <tbody>\n",
       "    <tr>\n",
       "      <th>0</th>\n",
       "      <td>Aarakocra</td>\n",
       "      <td>0.25</td>\n",
       "    </tr>\n",
       "    <tr>\n",
       "      <th>1</th>\n",
       "      <td>Abjurer Wizard</td>\n",
       "      <td>9.00</td>\n",
       "    </tr>\n",
       "    <tr>\n",
       "      <th>2</th>\n",
       "      <td>Aboleth</td>\n",
       "      <td>10.00</td>\n",
       "    </tr>\n",
       "    <tr>\n",
       "      <th>3</th>\n",
       "      <td>Abominable Yeti</td>\n",
       "      <td>9.00</td>\n",
       "    </tr>\n",
       "    <tr>\n",
       "      <th>4</th>\n",
       "      <td>Acolyte</td>\n",
       "      <td>0.25</td>\n",
       "    </tr>\n",
       "  </tbody>\n",
       "</table>\n",
       "</div>"
      ],
      "text/plain": [
       "              name     cr\n",
       "0        Aarakocra   0.25\n",
       "1   Abjurer Wizard   9.00\n",
       "2          Aboleth  10.00\n",
       "3  Abominable Yeti   9.00\n",
       "4          Acolyte   0.25"
      ]
     },
     "execution_count": 10,
     "metadata": {},
     "output_type": "execute_result"
    }
   ],
   "source": [
    "df.head()"
   ]
  },
  {
   "cell_type": "code",
   "execution_count": 11,
   "metadata": {},
   "outputs": [
    {
     "name": "stdout",
     "output_type": "stream",
     "text": [
      "<class 'pandas.core.frame.DataFrame'>\n",
      "Index: 626 entries, 0 to 707\n",
      "Data columns (total 2 columns):\n",
      " #   Column  Non-Null Count  Dtype  \n",
      "---  ------  --------------  -----  \n",
      " 0   name    626 non-null    object \n",
      " 1   cr      626 non-null    float64\n",
      "dtypes: float64(1), object(1)\n",
      "memory usage: 14.7+ KB\n"
     ]
    }
   ],
   "source": [
    "df.info()"
   ]
  },
  {
   "cell_type": "code",
   "execution_count": 12,
   "metadata": {},
   "outputs": [],
   "source": [
    "df.to_csv('../Data/enemies_under_14.csv', index=False)"
   ]
  },
  {
   "cell_type": "code",
   "execution_count": 13,
   "metadata": {},
   "outputs": [
    {
     "data": {
      "text/html": [
       "<div>\n",
       "<style scoped>\n",
       "    .dataframe tbody tr th:only-of-type {\n",
       "        vertical-align: middle;\n",
       "    }\n",
       "\n",
       "    .dataframe tbody tr th {\n",
       "        vertical-align: top;\n",
       "    }\n",
       "\n",
       "    .dataframe thead th {\n",
       "        text-align: right;\n",
       "    }\n",
       "</style>\n",
       "<table border=\"1\" class=\"dataframe\">\n",
       "  <thead>\n",
       "    <tr style=\"text-align: right;\">\n",
       "      <th></th>\n",
       "      <th>Unnamed: 0</th>\n",
       "      <th>name</th>\n",
       "      <th>hp</th>\n",
       "      <th>hp formula</th>\n",
       "      <th>hp special</th>\n",
       "      <th>ac</th>\n",
       "      <th>ac special</th>\n",
       "      <th>cr</th>\n",
       "      <th>str</th>\n",
       "      <th>dex</th>\n",
       "      <th>...</th>\n",
       "      <th>walk</th>\n",
       "      <th>fly</th>\n",
       "      <th>swim</th>\n",
       "      <th>burrow</th>\n",
       "      <th>climb</th>\n",
       "      <th>hover</th>\n",
       "      <th>size</th>\n",
       "      <th>alignment</th>\n",
       "      <th>type</th>\n",
       "      <th>source</th>\n",
       "    </tr>\n",
       "  </thead>\n",
       "  <tbody>\n",
       "    <tr>\n",
       "      <th>2741</th>\n",
       "      <td>2741</td>\n",
       "      <td>Sir Talavar</td>\n",
       "      <td>14</td>\n",
       "      <td>4d4 + 4</td>\n",
       "      <td>-</td>\n",
       "      <td>15</td>\n",
       "      <td>-</td>\n",
       "      <td>2</td>\n",
       "      <td>3</td>\n",
       "      <td>20</td>\n",
       "      <td>...</td>\n",
       "      <td>10</td>\n",
       "      <td>60</td>\n",
       "      <td>-</td>\n",
       "      <td>-</td>\n",
       "      <td>-</td>\n",
       "      <td>-</td>\n",
       "      <td>T</td>\n",
       "      <td>LG</td>\n",
       "      <td>dragon</td>\n",
       "      <td>WBtW</td>\n",
       "    </tr>\n",
       "    <tr>\n",
       "      <th>1104</th>\n",
       "      <td>1104</td>\n",
       "      <td>Incubus</td>\n",
       "      <td>66</td>\n",
       "      <td>12d8 + 12</td>\n",
       "      <td>-</td>\n",
       "      <td>15</td>\n",
       "      <td>-</td>\n",
       "      <td>4</td>\n",
       "      <td>8</td>\n",
       "      <td>17</td>\n",
       "      <td>...</td>\n",
       "      <td>30</td>\n",
       "      <td>60</td>\n",
       "      <td>-</td>\n",
       "      <td>-</td>\n",
       "      <td>-</td>\n",
       "      <td>-</td>\n",
       "      <td>M</td>\n",
       "      <td>NE</td>\n",
       "      <td>fiend</td>\n",
       "      <td>MM</td>\n",
       "    </tr>\n",
       "    <tr>\n",
       "      <th>957</th>\n",
       "      <td>957</td>\n",
       "      <td>Copper Dragon Wyrmling</td>\n",
       "      <td>22</td>\n",
       "      <td>4d8 + 4</td>\n",
       "      <td>-</td>\n",
       "      <td>16</td>\n",
       "      <td>-</td>\n",
       "      <td>1</td>\n",
       "      <td>15</td>\n",
       "      <td>12</td>\n",
       "      <td>...</td>\n",
       "      <td>30</td>\n",
       "      <td>60</td>\n",
       "      <td>-</td>\n",
       "      <td>-</td>\n",
       "      <td>30</td>\n",
       "      <td>-</td>\n",
       "      <td>M</td>\n",
       "      <td>CG</td>\n",
       "      <td>dragon</td>\n",
       "      <td>MM</td>\n",
       "    </tr>\n",
       "    <tr>\n",
       "      <th>2230</th>\n",
       "      <td>2230</td>\n",
       "      <td>Tau</td>\n",
       "      <td>33</td>\n",
       "      <td>6d8 + 6</td>\n",
       "      <td>-</td>\n",
       "      <td>16</td>\n",
       "      <td>-</td>\n",
       "      <td>2</td>\n",
       "      <td>11</td>\n",
       "      <td>14</td>\n",
       "      <td>...</td>\n",
       "      <td>30</td>\n",
       "      <td>-</td>\n",
       "      <td>-</td>\n",
       "      <td>-</td>\n",
       "      <td>-</td>\n",
       "      <td>-</td>\n",
       "      <td>M</td>\n",
       "      <td>NE</td>\n",
       "      <td>humanoid</td>\n",
       "      <td>SKT</td>\n",
       "    </tr>\n",
       "    <tr>\n",
       "      <th>482</th>\n",
       "      <td>482</td>\n",
       "      <td>Aurelia</td>\n",
       "      <td>287</td>\n",
       "      <td>25d8 + 175</td>\n",
       "      <td>-</td>\n",
       "      <td>22</td>\n",
       "      <td>-</td>\n",
       "      <td>23</td>\n",
       "      <td>26</td>\n",
       "      <td>24</td>\n",
       "      <td>...</td>\n",
       "      <td>50</td>\n",
       "      <td>150</td>\n",
       "      <td>-</td>\n",
       "      <td>-</td>\n",
       "      <td>-</td>\n",
       "      <td>-</td>\n",
       "      <td>M</td>\n",
       "      <td>LG</td>\n",
       "      <td>celestial</td>\n",
       "      <td>GGR</td>\n",
       "    </tr>\n",
       "  </tbody>\n",
       "</table>\n",
       "<p>5 rows × 30 columns</p>\n",
       "</div>"
      ],
      "text/plain": [
       "      Unnamed: 0                    name   hp  hp formula hp special  ac  \\\n",
       "2741        2741             Sir Talavar   14     4d4 + 4          -  15   \n",
       "1104        1104                 Incubus   66   12d8 + 12          -  15   \n",
       "957          957  Copper Dragon Wyrmling   22     4d8 + 4          -  16   \n",
       "2230        2230                     Tau   33     6d8 + 6          -  16   \n",
       "482          482                 Aurelia  287  25d8 + 175          -  22   \n",
       "\n",
       "     ac special  cr str dex  ... walk  fly swim burrow climb hover size  \\\n",
       "2741          -   2   3  20  ...   10   60    -      -     -     -    T   \n",
       "1104          -   4   8  17  ...   30   60    -      -     -     -    M   \n",
       "957           -   1  15  12  ...   30   60    -      -    30     -    M   \n",
       "2230          -   2  11  14  ...   30    -    -      -     -     -    M   \n",
       "482           -  23  26  24  ...   50  150    -      -     -     -    M   \n",
       "\n",
       "     alignment       type source  \n",
       "2741        LG     dragon   WBtW  \n",
       "1104        NE      fiend     MM  \n",
       "957         CG     dragon     MM  \n",
       "2230        NE   humanoid    SKT  \n",
       "482         LG  celestial    GGR  \n",
       "\n",
       "[5 rows x 30 columns]"
      ]
     },
     "execution_count": 13,
     "metadata": {},
     "output_type": "execute_result"
    }
   ],
   "source": [
    "df_5etools = pd.read_csv('../Data/5e_monster_data_5eTools.csv')\n",
    "df_5etools.sample(5)"
   ]
  },
  {
   "cell_type": "code",
   "execution_count": 14,
   "metadata": {},
   "outputs": [
    {
     "name": "stdout",
     "output_type": "stream",
     "text": [
      "<class 'pandas.core.frame.DataFrame'>\n",
      "RangeIndex: 2947 entries, 0 to 2946\n",
      "Data columns (total 30 columns):\n",
      " #   Column      Non-Null Count  Dtype \n",
      "---  ------      --------------  ----- \n",
      " 0   Unnamed: 0  2947 non-null   int64 \n",
      " 1   name        2947 non-null   object\n",
      " 2   hp          2947 non-null   object\n",
      " 3   hp formula  2947 non-null   object\n",
      " 4   hp special  2947 non-null   object\n",
      " 5   ac          2947 non-null   object\n",
      " 6   ac special  2947 non-null   object\n",
      " 7   cr          2947 non-null   object\n",
      " 8   str         2947 non-null   object\n",
      " 9   dex         2947 non-null   object\n",
      " 10  con         2947 non-null   object\n",
      " 11  int         2947 non-null   object\n",
      " 12  wis         2947 non-null   object\n",
      " 13  cha         2947 non-null   object\n",
      " 14  str save    2947 non-null   object\n",
      " 15  dex save    2947 non-null   object\n",
      " 16  con save    2947 non-null   object\n",
      " 17  int save    2947 non-null   object\n",
      " 18  wis save    2947 non-null   object\n",
      " 19  cha save    2947 non-null   object\n",
      " 20  walk        2947 non-null   object\n",
      " 21  fly         2947 non-null   object\n",
      " 22  swim        2947 non-null   object\n",
      " 23  burrow      2947 non-null   object\n",
      " 24  climb       2947 non-null   object\n",
      " 25  hover       2947 non-null   object\n",
      " 26  size        2947 non-null   object\n",
      " 27  alignment   2947 non-null   object\n",
      " 28  type        2947 non-null   object\n",
      " 29  source      2947 non-null   object\n",
      "dtypes: int64(1), object(29)\n",
      "memory usage: 690.8+ KB\n"
     ]
    }
   ],
   "source": [
    "df_5etools.info()"
   ]
  },
  {
   "cell_type": "code",
   "execution_count": 15,
   "metadata": {},
   "outputs": [],
   "source": [
    "df_5etools = df_5etools[[\"name\",'hp','ac','cr','size','type',]]"
   ]
  },
  {
   "cell_type": "code",
   "execution_count": 16,
   "metadata": {},
   "outputs": [
    {
     "name": "stdout",
     "output_type": "stream",
     "text": [
      "<class 'pandas.core.frame.DataFrame'>\n",
      "RangeIndex: 2947 entries, 0 to 2946\n",
      "Data columns (total 6 columns):\n",
      " #   Column  Non-Null Count  Dtype \n",
      "---  ------  --------------  ----- \n",
      " 0   name    2947 non-null   object\n",
      " 1   hp      2947 non-null   object\n",
      " 2   ac      2947 non-null   object\n",
      " 3   cr      2947 non-null   object\n",
      " 4   size    2947 non-null   object\n",
      " 5   type    2947 non-null   object\n",
      "dtypes: object(6)\n",
      "memory usage: 138.3+ KB\n"
     ]
    }
   ],
   "source": [
    "df_5etools.info()"
   ]
  },
  {
   "cell_type": "code",
   "execution_count": 17,
   "metadata": {},
   "outputs": [],
   "source": [
    "final_df = df.merge(df_5etools, how='inner', on='name')"
   ]
  },
  {
   "cell_type": "code",
   "execution_count": 18,
   "metadata": {},
   "outputs": [
    {
     "name": "stdout",
     "output_type": "stream",
     "text": [
      "<class 'pandas.core.frame.DataFrame'>\n",
      "RangeIndex: 824 entries, 0 to 823\n",
      "Data columns (total 7 columns):\n",
      " #   Column  Non-Null Count  Dtype  \n",
      "---  ------  --------------  -----  \n",
      " 0   name    824 non-null    object \n",
      " 1   cr_x    824 non-null    float64\n",
      " 2   hp      824 non-null    object \n",
      " 3   ac      824 non-null    object \n",
      " 4   cr_y    824 non-null    object \n",
      " 5   size    824 non-null    object \n",
      " 6   type    824 non-null    object \n",
      "dtypes: float64(1), object(6)\n",
      "memory usage: 45.2+ KB\n"
     ]
    }
   ],
   "source": [
    "final_df.info()"
   ]
  },
  {
   "cell_type": "code",
   "execution_count": 19,
   "metadata": {},
   "outputs": [],
   "source": [
    "final_df.drop_duplicates(subset='name',inplace=True)"
   ]
  },
  {
   "cell_type": "code",
   "execution_count": 20,
   "metadata": {},
   "outputs": [
    {
     "name": "stdout",
     "output_type": "stream",
     "text": [
      "<class 'pandas.core.frame.DataFrame'>\n",
      "Index: 626 entries, 0 to 823\n",
      "Data columns (total 7 columns):\n",
      " #   Column  Non-Null Count  Dtype  \n",
      "---  ------  --------------  -----  \n",
      " 0   name    626 non-null    object \n",
      " 1   cr_x    626 non-null    float64\n",
      " 2   hp      626 non-null    object \n",
      " 3   ac      626 non-null    object \n",
      " 4   cr_y    626 non-null    object \n",
      " 5   size    626 non-null    object \n",
      " 6   type    626 non-null    object \n",
      "dtypes: float64(1), object(6)\n",
      "memory usage: 39.1+ KB\n"
     ]
    }
   ],
   "source": [
    "final_df.info()"
   ]
  },
  {
   "cell_type": "code",
   "execution_count": 21,
   "metadata": {},
   "outputs": [],
   "source": [
    "final_df.drop(columns=['cr_y'], inplace=True)\n",
    "final_df.rename(columns={'cr_x':'cr'}, inplace=True)"
   ]
  },
  {
   "cell_type": "code",
   "execution_count": 22,
   "metadata": {},
   "outputs": [],
   "source": [
    "final_df.to_csv('../Data/enemies_under_14_final.csv', index=False)"
   ]
  }
 ],
 "metadata": {
  "kernelspec": {
   "display_name": "Python 3",
   "language": "python",
   "name": "python3"
  },
  "language_info": {
   "codemirror_mode": {
    "name": "ipython",
    "version": 3
   },
   "file_extension": ".py",
   "mimetype": "text/x-python",
   "name": "python",
   "nbconvert_exporter": "python",
   "pygments_lexer": "ipython3",
   "version": "3.11.4"
  }
 },
 "nbformat": 4,
 "nbformat_minor": 2
}
